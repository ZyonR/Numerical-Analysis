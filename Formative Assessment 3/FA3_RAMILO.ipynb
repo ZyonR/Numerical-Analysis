{
 "cells": [
  {
   "cell_type": "code",
   "execution_count": 12,
   "id": "ab088d05-31d0-4e49-a1ed-e723ff7d2928",
   "metadata": {},
   "outputs": [],
   "source": [
    "import pandas as pd\n",
    "import math as m\n",
    "import numpy as np\n",
    "import sympy as sp\n",
    "from functools import reduce"
   ]
  },
  {
   "cell_type": "markdown",
   "id": "7eadb45e-e3da-434b-9403-5c4eb7f09a68",
   "metadata": {},
   "source": [
    "# Question 1"
   ]
  },
  {
   "cell_type": "code",
   "execution_count": 2,
   "id": "413809ee-0c60-4e81-b5f3-9bc3a69fd42f",
   "metadata": {},
   "outputs": [],
   "source": [
    "def edge3pointDeriv(yArr, h):\n",
    "    startEdge = (1/2 * h) * (-3 * yArr[0] + 4 * yArr[1] - yArr[2])\n",
    "    endEdge = (1/2 * h) * (-3 * yArr[-1] + 4 * yArr[-2] - yArr[-3])\n",
    "    midpoints = yArr[1:-1]\n",
    "    approxDeriv = [startEdge] + [(1/2 * h) * (yArr[i] - yArr[i + 2]) for i,val in enumerate(midpoints)] + [endEdge]\n",
    "    return approxDeriv"
   ]
  },
  {
   "cell_type": "code",
   "execution_count": 3,
   "id": "0c11afd9-e8b0-4f66-943b-38ab2f76c375",
   "metadata": {},
   "outputs": [],
   "source": [
    "xValues = [2.9,3,3.1,3.2]\n",
    "yValues = [-4.827866,-4.240058,-3.496909,-2.596792]\n",
    "approxDeriv = edge3pointDeriv(yValues,0.1)"
   ]
  },
  {
   "cell_type": "code",
   "execution_count": 4,
   "id": "579ba59f-6e97-4ecd-b0f9-71cf436c2b4a",
   "metadata": {},
   "outputs": [
    {
     "data": {
      "text/html": [
       "<div>\n",
       "<style scoped>\n",
       "    .dataframe tbody tr th:only-of-type {\n",
       "        vertical-align: middle;\n",
       "    }\n",
       "\n",
       "    .dataframe tbody tr th {\n",
       "        vertical-align: top;\n",
       "    }\n",
       "\n",
       "    .dataframe thead th {\n",
       "        text-align: right;\n",
       "    }\n",
       "</style>\n",
       "<table border=\"1\" class=\"dataframe\">\n",
       "  <thead>\n",
       "    <tr style=\"text-align: right;\">\n",
       "      <th></th>\n",
       "      <th>x</th>\n",
       "      <th>f(x)</th>\n",
       "      <th>f'(x)</th>\n",
       "    </tr>\n",
       "  </thead>\n",
       "  <tbody>\n",
       "    <tr>\n",
       "      <th>0</th>\n",
       "      <td>2.9</td>\n",
       "      <td>-4.827866</td>\n",
       "      <td>0.051014</td>\n",
       "    </tr>\n",
       "    <tr>\n",
       "      <th>1</th>\n",
       "      <td>3.0</td>\n",
       "      <td>-4.240058</td>\n",
       "      <td>-0.066548</td>\n",
       "    </tr>\n",
       "    <tr>\n",
       "      <th>2</th>\n",
       "      <td>3.1</td>\n",
       "      <td>-3.496909</td>\n",
       "      <td>-0.082163</td>\n",
       "    </tr>\n",
       "    <tr>\n",
       "      <th>3</th>\n",
       "      <td>3.2</td>\n",
       "      <td>-2.596792</td>\n",
       "      <td>-0.097860</td>\n",
       "    </tr>\n",
       "  </tbody>\n",
       "</table>\n",
       "</div>"
      ],
      "text/plain": [
       "     x      f(x)     f'(x)\n",
       "0  2.9 -4.827866  0.051014\n",
       "1  3.0 -4.240058 -0.066548\n",
       "2  3.1 -3.496909 -0.082163\n",
       "3  3.2 -2.596792 -0.097860"
      ]
     },
     "execution_count": 4,
     "metadata": {},
     "output_type": "execute_result"
    }
   ],
   "source": [
    "point3DerivApprox = {\n",
    "    \"x\":xValues,\n",
    "    \"f(x)\":yValues,\n",
    "    \"f'(x)\":approxDeriv\n",
    "}\n",
    "point3DerivApprox = pd.DataFrame(point3DerivApprox)\n",
    "point3DerivApprox"
   ]
  },
  {
   "cell_type": "markdown",
   "id": "56671d4f-a990-44c1-b24d-e46706e8f535",
   "metadata": {},
   "source": [
    "# Question 2"
   ]
  },
  {
   "cell_type": "code",
   "execution_count": 5,
   "id": "493ebb7e-c03d-4b54-b93f-1eaf082cec0b",
   "metadata": {},
   "outputs": [],
   "source": [
    "def edge5pointDerivMidpoints(yArr,h):\n",
    "    midpoints = yArr[2:-2]\n",
    "    approxDeriv = [(1/(12*h))*(yArr[i]-(8*yArr[i+1])+(8*yArr[i+3])-yArr[i+4]) for i,_ in enumerate(midpoints)]\n",
    "    return approxDeriv"
   ]
  },
  {
   "cell_type": "code",
   "execution_count": 6,
   "id": "9f03c19f-66bb-441b-87d3-beffc600730b",
   "metadata": {},
   "outputs": [
    {
     "name": "stdout",
     "output_type": "stream",
     "text": [
      "f'(2.3) =  2.24970490924769\n"
     ]
    }
   ],
   "source": [
    "x = sp.symbols('x')\n",
    "func = sp.tan(x)\n",
    "xValues = [2.1,2.2,2.3,2.4,2.5]\n",
    "yValues = [func.subs(x,xi) for xi in xValues]\n",
    "approxDeriv = edge5pointDerivMidpoints(yValues,0.1)\n",
    "print(\"f'(2.3) = \",approxDeriv[0])"
   ]
  },
  {
   "cell_type": "code",
   "execution_count": 7,
   "id": "47b21338-0e54-4711-887f-df95b50ccd82",
   "metadata": {},
   "outputs": [
    {
     "name": "stdout",
     "output_type": "stream",
     "text": [
      "Error bound of f'(2.3):  0.018211981297327248\n"
     ]
    }
   ],
   "source": [
    "func5 = sp.diff(func, x, 5)\n",
    "f5_func5 = sp.lambdify(x, func5)\n",
    "\n",
    "xn = np.linspace(2.1, 2.5, 100)\n",
    "max_f5 = max(abs(f5_func5(xi)) for xi in xn)\n",
    "\n",
    "errorBound = ((0.1**4)/30)*max_f5\n",
    "print(\"Error bound of f'(2.3): \",errorBound)"
   ]
  },
  {
   "cell_type": "markdown",
   "id": "792be5bb-0a6b-4602-bc4e-b5cab79a9a6e",
   "metadata": {},
   "source": [
    "# Question 3"
   ]
  },
  {
   "cell_type": "code",
   "execution_count": 8,
   "id": "2881b03f-d103-4f7f-8b2a-b777670d1e68",
   "metadata": {},
   "outputs": [
    {
     "name": "stdout",
     "output_type": "stream",
     "text": [
      "f''(1.3) =  0.3650000000002151\n"
     ]
    }
   ],
   "source": [
    "xValues = [1.2,1.29,1.3,1.31,1.4]\n",
    "yValues = [11.59006,13.78176,14.04276,14.30741,16.86187]\n",
    "h=0.1\n",
    "secondDerivApprox = (1/(h**2))*(yValues[1]-2*yValues[2]+yValues[3])\n",
    "print(\"f''(1.3) = \",secondDerivApprox)"
   ]
  },
  {
   "cell_type": "markdown",
   "id": "c6358c83-d2b9-453f-861e-d2d3433e6468",
   "metadata": {},
   "source": [
    "# Question 4"
   ]
  },
  {
   "cell_type": "markdown",
   "id": "b6e5f859-8080-4802-9156-e1a60d46786c",
   "metadata": {},
   "source": [
    "\\begin{align}\n",
    "f'(x) &= \\frac{f(x+h) - f(x-h)}{2h} - \\sum_{n=1}^{\\infty} \\frac{f^{(2n+1)}(x)}{(2n+1)!} h^{2n} \\\\\n",
    "\\end{align}\n",
    "Let $\\displaystyle \\frac{f(x+h) - f(x-h)}{2h} = N_1(h)$\n",
    "\\begin{align}\n",
    "M &= N_1(h) + a^{1}_{2} h^2 + a^{1}_{4} h^4 + a^{1}_{6} h^6 + \\cdots\\\\\n",
    "M &= N_1\\left(\\frac{h}{2}\\right) + a^{1}_{2} \\left(\\frac{h}{2}\\right)^2 + a^{1}_{4} \\left(\\frac{h}{2}\\right)^4 + a^{1}_{6} \\left(\\frac{h}{2}\\right)^6 + \\cdots\\\\\n",
    "4M-M&= 4N_1\\left(\\frac{h}{2}\\right)-N_1(h) + a^{2}_{4} \\left(\\frac{1}{2^2}-1\\right)h^4 + a^{2}_{6} \\left(\\frac{1}{2^4}-1\\right)h^6 + \\cdots\\\\\n",
    "M&= \\frac{1}{3}\\left[4N_1\\left(\\frac{h}{2}\\right)-N_1(h)\\right] + a^{2}_{4} h^4 + a^{2}_{6} h^6 + \\cdots\n",
    "\\end{align}\n",
    "Let $\\displaystyle \\frac{1}{3}\\left[4N_1\\left(\\frac{h}{2}\\right)-N_1(h)\\right] = N_2(h)$\n",
    "\\begin{align}\n",
    "M&= N_2(h) + a^{2}_{4} h^4 + a^{2}_{6} h^6 + \\cdots\\\\\n",
    "M&= N_2\\left(\\frac{h}{2}\\right) + a^{2}_{4} \\left(\\frac{h}{2}\\right)^4 + a^{2}_{6} \\left(\\frac{h}{2}\\right)^6 + \\cdots\\\\\n",
    "16M-M&= 16N_2\\left(\\frac{h}{2}\\right)-N_2(h)+ a^{3}_{6} \\left(\\frac{1}{2^2}-1\\right)h^6 + \\cdots\\\\\n",
    "M&= \\frac{1}{15}\\left[16N_2\\left(\\frac{h}{2}\\right)-N_2(h)\\right] +a^{3}_{6}h^6+ \\cdots\n",
    "\\end{align}\n",
    "Let $\\displaystyle \\frac{1}{15}\\left[16N_2\\left(\\frac{h}{2}\\right)-N_2(h)\\right] = N_3(h)$\n",
    "\n"
   ]
  },
  {
   "cell_type": "markdown",
   "id": "98165c56-dbd4-4f20-9956-6f02a2aa2813",
   "metadata": {},
   "source": [
    "# Question 5"
   ]
  },
  {
   "cell_type": "code",
   "execution_count": 10,
   "id": "65566d6b-ac22-426f-a876-c80d1a1b04b5",
   "metadata": {},
   "outputs": [],
   "source": [
    "def lagrange_producer(xArr,yArr):\n",
    "    x_sym = sp.symbols('x')\n",
    "    full_func = []\n",
    "    for i,x in enumerate(xArr):\n",
    "        top_multiplier = [x_sym - xi for j, xi in enumerate(xArr) if j != i]\n",
    "        bottom_multiplier = [xArr[i] - xi for j, xi in enumerate(xArr) if j != i]\n",
    "        \n",
    "        top_multiplier = reduce(lambda a, b: a * b, top_multiplier)\n",
    "        bottom_multiplier = reduce(lambda a, b: a * b, bottom_multiplier)\n",
    "\n",
    "        li = (top_multiplier/bottom_multiplier)*yArr[i]\n",
    "        full_func.append(li)\n",
    "    full_func = reduce(lambda x, y: x + y, full_func)\n",
    "    return full_func"
   ]
  },
  {
   "cell_type": "code",
   "execution_count": 13,
   "id": "bd97ed6b-f94e-4f14-910d-8d944eac0758",
   "metadata": {},
   "outputs": [
    {
     "name": "stdout",
     "output_type": "stream",
     "text": [
      "Definite Integral using Trapezoid Rule:  0.218089506238715\n"
     ]
    }
   ],
   "source": [
    "x_arr = [0,np.pi/4]\n",
    "y_arr = [0,np.pi/4*m.sin(np.pi/4)]\n",
    "\n",
    "full_func = lagrange_producer(x_arr,y_arr)\n",
    "definite_integral = sp.integrate(full_func, (x, 0, np.pi/4))\n",
    "\n",
    "print(f\"Definite Integral using Trapezoid Rule: \",definite_integral)"
   ]
  },
  {
   "cell_type": "markdown",
   "id": "48a288ac-3a76-4b6b-9d07-58ededdc1e94",
   "metadata": {},
   "source": [
    "# Question 6"
   ]
  },
  {
   "cell_type": "code",
   "execution_count": 14,
   "id": "6a0e00fc-3c6d-4977-b245-4db8a69f2a03",
   "metadata": {},
   "outputs": [
    {
     "name": "stdout",
     "output_type": "stream",
     "text": [
      "Definite Integral using Simpson's Rule:  0.151382628919040\n"
     ]
    }
   ],
   "source": [
    "x_arr = [0,(np.pi/4)/2,np.pi/4]\n",
    "y_arr = [0,x_arr[1]*m.sin(x_arr[1]),x_arr[2]*m.sin(x_arr[2])]\n",
    "\n",
    "full_func_simps = lagrange_producer(x_arr,y_arr)\n",
    "definite_integral_simps = sp.integrate(full_func_simps, (x, 0, np.pi/4))\n",
    "\n",
    "print(f\"Definite Integral using Simpson's Rule: \",definite_integral_simps)"
   ]
  },
  {
   "cell_type": "markdown",
   "id": "a545b7f5-dc70-418f-9e42-967607d1f9da",
   "metadata": {},
   "source": [
    "# Question 7"
   ]
  },
  {
   "cell_type": "code",
   "execution_count": 24,
   "id": "f5f914d1-b0e1-4b33-95e7-eb05fc06cd10",
   "metadata": {},
   "outputs": [
    {
     "name": "stdout",
     "output_type": "stream",
     "text": [
      "Trapezoid Rule Error Bound:\n",
      "-0.0807455121882808 <= error <= 0.0807455121882808\n",
      "\n",
      "Simpsons Rule Error Bound:\n",
      "-0.000415065761698787 <= error <= 0.000415065761698787\n",
      "\n"
     ]
    }
   ],
   "source": [
    "x = sp.symbols('x')\n",
    "h = np.pi / 4 \n",
    "base_func = x * sp.sin(x) \n",
    "\n",
    "second_deriv = sp.diff(base_func,x,2)\n",
    "fourth_deriv = sp.diff(base_func,x,4)\n",
    "\n",
    "bound_vals_trap = [second_deriv.subs(x,0),second_deriv.subs(x,h)]    \n",
    "bound_vals_simps = [fourth_deriv.subs(x,0),fourth_deriv.subs(x,h)] \n",
    "\n",
    "max_all_val_trap = np.max(np.abs(np.array(bound_vals_trap)))\n",
    "max_all_val_simps= np.max(np.abs(np.array(bound_vals_simps)))\n",
    "\n",
    "error_bound_trap = ((h**3)/(12*(1)**2))*max_all_val_trap\n",
    "error_bound_simps = ((h**5)/(180*(2)**4))*max_all_val_simps\n",
    "\n",
    "print(f\"Trapezoid Rule Error Bound:\\n{-error_bound_trap} <= error <= {error_bound_trap}\\n\")\n",
    "print(f\"Simpsons Rule Error Bound:\\n{-error_bound_simps} <= error <= {error_bound_simps}\\n\")"
   ]
  },
  {
   "cell_type": "markdown",
   "id": "39cbae0a-8e34-4aa6-98e4-66d30b9094be",
   "metadata": {},
   "source": [
    "# Question 8"
   ]
  },
  {
   "cell_type": "code",
   "execution_count": 29,
   "id": "84ff3174-be3d-4e68-b099-8e54cd8eda69",
   "metadata": {},
   "outputs": [],
   "source": [
    "basic_func = 1/x\n",
    "closed_cote = []\n",
    "open_cote = []\n",
    "for i in range(2):\n",
    "    x_points_c = np.linspace(1,10,i+2)\n",
    "    y_points_c = [basic_func.subs(x,xi) for xi in x_points_c]\n",
    "    func_c = lagrange_producer(x_points_c,y_points_c)\n",
    "    def_int_func_c = sp.integrate(func_c, (x, 1, 10))\n",
    "    \n",
    "    closed_cote.append(def_int_func_c)\n",
    "\n",
    "    x_points_o = np.linspace(1.01,9.99,i+2)\n",
    "    y_points_o = [basic_func.subs(x,xi) for xi in x_points_o]\n",
    "    func_o = lagrange_producer(x_points_o,y_points_o)\n",
    "    def_int_func_o = sp.integrate(func_o, (x, 1, 10))\n",
    "\n",
    "    open_cote.append(def_int_func_o)"
   ]
  },
  {
   "cell_type": "code",
   "execution_count": 32,
   "id": "fd8af584-5c61-4917-a146-d18404bb798d",
   "metadata": {},
   "outputs": [
    {
     "data": {
      "text/html": [
       "<div>\n",
       "<style scoped>\n",
       "    .dataframe tbody tr th:only-of-type {\n",
       "        vertical-align: middle;\n",
       "    }\n",
       "\n",
       "    .dataframe tbody tr th {\n",
       "        vertical-align: top;\n",
       "    }\n",
       "\n",
       "    .dataframe thead th {\n",
       "        text-align: right;\n",
       "    }\n",
       "</style>\n",
       "<table border=\"1\" class=\"dataframe\">\n",
       "  <thead>\n",
       "    <tr style=\"text-align: right;\">\n",
       "      <th></th>\n",
       "      <th>n</th>\n",
       "      <th>Closed Cote</th>\n",
       "      <th>Open Cote</th>\n",
       "    </tr>\n",
       "  </thead>\n",
       "  <tbody>\n",
       "    <tr>\n",
       "      <th>0</th>\n",
       "      <td>2</td>\n",
       "      <td>4.95000000000000</td>\n",
       "      <td>4.90589599500491</td>\n",
       "    </tr>\n",
       "    <tr>\n",
       "      <th>1</th>\n",
       "      <td>3</td>\n",
       "      <td>2.74090909090909</td>\n",
       "      <td>2.73106770136473</td>\n",
       "    </tr>\n",
       "  </tbody>\n",
       "</table>\n",
       "</div>"
      ],
      "text/plain": [
       "   n       Closed Cote         Open Cote\n",
       "0  2  4.95000000000000  4.90589599500491\n",
       "1  3  2.74090909090909  2.73106770136473"
      ]
     },
     "execution_count": 32,
     "metadata": {},
     "output_type": "execute_result"
    }
   ],
   "source": [
    "newton_cotes_dict = {\n",
    "    \"n\":[2,3],\n",
    "    \"Closed Cote\":closed_cote,\n",
    "    \"Open Cote\":open_cote\n",
    "}\n",
    "newton_cotes_pd = pd.DataFrame(newton_cotes_dict)\n",
    "newton_cotes_pd"
   ]
  },
  {
   "cell_type": "markdown",
   "id": "13362784-1286-4878-8171-7c2ae59bf643",
   "metadata": {},
   "source": [
    "The theoretical error bounds agree with the actual solutions where the errors are significantly reduces it self as n increases."
   ]
  },
  {
   "cell_type": "code",
   "execution_count": null,
   "id": "36387e46-64a3-4ee3-8394-3ce6dccf29c5",
   "metadata": {},
   "outputs": [],
   "source": []
  }
 ],
 "metadata": {
  "kernelspec": {
   "display_name": "Python 3 (ipykernel)",
   "language": "python",
   "name": "python3"
  },
  "language_info": {
   "codemirror_mode": {
    "name": "ipython",
    "version": 3
   },
   "file_extension": ".py",
   "mimetype": "text/x-python",
   "name": "python",
   "nbconvert_exporter": "python",
   "pygments_lexer": "ipython3",
   "version": "3.11.7"
  }
 },
 "nbformat": 4,
 "nbformat_minor": 5
}
