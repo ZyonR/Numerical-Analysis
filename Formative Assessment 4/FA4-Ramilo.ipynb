{
 "cells": [
  {
   "cell_type": "code",
   "execution_count": 106,
   "id": "4a0f0c25-83a3-4b32-ac0f-468ff5d4bc71",
   "metadata": {},
   "outputs": [],
   "source": [
    "import pandas as pd\n",
    "import math as m\n",
    "import numpy as np\n",
    "import sympy as sp\n",
    "import matplotlib.pyplot as plt"
   ]
  },
  {
   "cell_type": "markdown",
   "id": "597d388f-c69c-498f-82f8-6be4c301fe34",
   "metadata": {},
   "source": [
    "# Section I"
   ]
  },
  {
   "cell_type": "markdown",
   "id": "c02cca5f-01f8-4c9f-a935-eea1e5b64e42",
   "metadata": {},
   "source": [
    "## Question 1"
   ]
  },
  {
   "cell_type": "markdown",
   "id": "27b8c54a-a083-4f2c-acb8-b470f2c5a34d",
   "metadata": {},
   "source": [
    "#### Composite Trapezoidal Rule"
   ]
  },
  {
   "cell_type": "code",
   "execution_count": 2,
   "id": "f921233d-6810-4964-a694-bec46b186d9e",
   "metadata": {},
   "outputs": [
    {
     "name": "stdout",
     "output_type": "stream",
     "text": [
      "3.159475674259824\n"
     ]
    }
   ],
   "source": [
    "x = sp.symbols('x')\n",
    "func = (x**2)*sp.ln(x**2+1)\n",
    "f = sp.lambdify(x, func)\n",
    "h = 0.25\n",
    "xValues = list(np.arange(0, 2.1, h))\n",
    "yValues = [h*f(x_i) for x_i in xValues]\n",
    "yValues[0] = 0.5*yValues[0]\n",
    "yValues[-1] = 0.5*yValues[0-1]\n",
    "approxArea = sum(yValues)\n",
    "print(approxArea)"
   ]
  },
  {
   "cell_type": "markdown",
   "id": "5fe635ac-635d-4587-8b11-5a3fe0b8fa3c",
   "metadata": {},
   "source": [
    "#### Composite Simpon's Rule"
   ]
  },
  {
   "cell_type": "code",
   "execution_count": 3,
   "id": "3b68cbf9-f9af-453b-b78c-fbf948dda66f",
   "metadata": {},
   "outputs": [
    {
     "name": "stdout",
     "output_type": "stream",
     "text": [
      "3.10933712650888\n"
     ]
    }
   ],
   "source": [
    "def pX_lagrangeIntegral(x0,x1,x2,fX):\n",
    "    x = sp.symbols('x')\n",
    "    p0X = (((x-x1)*(x-x2))/((x0-x1)*(x0-x2)))*fX(x0)\n",
    "    p1X = (((x-x0)*(x-x2))/((x1-x0)*(x1-x2)))*fX(x1)\n",
    "    p2X = (((x-x0)*(x-x1))/((x2-x0)*(x2-x1)))*fX(x2)\n",
    "\n",
    "    pX_raw = p0X+p1X+p2X\n",
    "    pX = sp.simplify(pX_raw)\n",
    "\n",
    "    integralOfpX = sp.integrate(pX,(x,x0,x2))\n",
    "    return integralOfpX\n",
    "def fX(x):\n",
    "    value = (x**2)*m.log((x**2)+1)\n",
    "    return value\n",
    "    \n",
    "n = int((2 - 0) / h)\n",
    "points = list(np.linspace(0, 2, n + 1))\n",
    "threePointGroups = [points[i:i+3] for i in range(0,len(points),2)][0:-1]\n",
    "simpsonRuleSum = sum([pX_lagrangeIntegral(threePoints[0],threePoints[1],threePoints[2],fX) for threePoints in threePointGroups])\n",
    "print(simpsonRuleSum)"
   ]
  },
  {
   "cell_type": "markdown",
   "id": "6081a786-bda1-458e-9bb6-95aaa07270b9",
   "metadata": {},
   "source": [
    "#### Composite Midpoint Rule"
   ]
  },
  {
   "cell_type": "code",
   "execution_count": 4,
   "id": "872103fb-3be4-4756-8cdb-55ac2eb8762b",
   "metadata": {},
   "outputs": [
    {
     "data": {
      "text/plain": [
       "3.084202849079324"
      ]
     },
     "execution_count": 4,
     "metadata": {},
     "output_type": "execute_result"
    }
   ],
   "source": [
    "def calculateMidPoint(x0,x1,fX):\n",
    "    midpoint = (x1+x0)/2\n",
    "    return fX(midpoint)\n",
    "twoPointGroups = [points[i:i+2] for i in range(0,len(points))][0:-1]\n",
    "midpointRuleSum = h*sum([calculateMidPoint(twoPointGroup[0],twoPointGroup[1],fX) for twoPointGroup in twoPointGroups])\n",
    "midpointRuleSum"
   ]
  },
  {
   "cell_type": "markdown",
   "id": "df0a459c-96e4-4f2a-85ef-33630001e1e2",
   "metadata": {},
   "source": [
    "## Question 2"
   ]
  },
  {
   "cell_type": "markdown",
   "id": "b0d8165d-77fe-4a85-8a7d-ed331d3e05f3",
   "metadata": {},
   "source": [
    "#### Composite Trapezoidal Rule"
   ]
  },
  {
   "cell_type": "code",
   "execution_count": 5,
   "id": "96895c8b-4a4f-4560-bd5e-2a0725cc90f0",
   "metadata": {},
   "outputs": [],
   "source": [
    "def compositeTrapizoidalRule(nPoints,a,b):\n",
    "    points = list(np.linspace(a, b, nPoints + 1))\n",
    "    distance = points[1]-points[0]\n",
    "    yValues = [distance*f(x_i) for x_i in points]\n",
    "    yValues[0] = 0.5*yValues[0]\n",
    "    yValues[-1] = 0.5*yValues[-1]\n",
    "    approxArea = sum(yValues)\n",
    "\n",
    "    return approxArea, distance\n",
    "\n",
    "def compositeTrapizoidalRuleWTOL(tol,f):\n",
    "    iterationPreviousAreas = []\n",
    "    iterationForwardAreas = []\n",
    "    distancePrevious = []\n",
    "    distanceForward = []\n",
    "    errorProduced = []\n",
    "    distancesBetweenAreas = []\n",
    "    \n",
    "    n = 1\n",
    "    while True:\n",
    "        areaTrap1,distance1 = compositeTrapizoidalRule(n,0,2)\n",
    "        iterationPreviousAreas.append(areaTrap1)\n",
    "        distancePrevious.append(distance1)\n",
    "        \n",
    "        m = n+1\n",
    "        areaTrap2,distance2 = compositeTrapizoidalRule(m,0,2)\n",
    "        iterationForwardAreas.append(areaTrap2)\n",
    "        distanceForward.append(distance2)\n",
    "\n",
    "        error = abs(areaTrap1-areaTrap2)\n",
    "        errorProduced.append(error)\n",
    "        \n",
    "        if error <= tol:\n",
    "            break\n",
    "        n+=1\n",
    "    return iterationPreviousAreas,iterationForwardAreas,errorProduced,distancePrevious,distanceForward\n",
    "\n",
    "def f(x):\n",
    "    return 1/(x+4)"
   ]
  },
  {
   "cell_type": "code",
   "execution_count": 6,
   "id": "3d440fe7-a493-4909-ab8f-2d6170359313",
   "metadata": {},
   "outputs": [],
   "source": [
    "iterationPreviousAreas,iterationForwardAreas,errorProduced,distancePrevious,distanceForward = compositeTrapizoidalRuleWTOL(10**(-5),f)\n",
    "trapZoid = {\n",
    "    \"Area_n\": iterationPreviousAreas,\n",
    "    \"Area_n+1\": iterationForwardAreas,\n",
    "    \"error\": errorProduced,\n",
    "    \"h_n\": distancePrevious,\n",
    "    \"h_n+1\": distanceForward\n",
    "}\n",
    "\n",
    "trapZoidDF = pd.DataFrame(trapZoid)"
   ]
  },
  {
   "cell_type": "code",
   "execution_count": 7,
   "id": "8cc78bf2-37a6-435c-a107-023c9daaa617",
   "metadata": {},
   "outputs": [
    {
     "data": {
      "text/html": [
       "<div>\n",
       "<style scoped>\n",
       "    .dataframe tbody tr th:only-of-type {\n",
       "        vertical-align: middle;\n",
       "    }\n",
       "\n",
       "    .dataframe tbody tr th {\n",
       "        vertical-align: top;\n",
       "    }\n",
       "\n",
       "    .dataframe thead th {\n",
       "        text-align: right;\n",
       "    }\n",
       "</style>\n",
       "<table border=\"1\" class=\"dataframe\">\n",
       "  <thead>\n",
       "    <tr style=\"text-align: right;\">\n",
       "      <th></th>\n",
       "      <th>Area_n</th>\n",
       "      <th>Area_n+1</th>\n",
       "      <th>error</th>\n",
       "      <th>h_n</th>\n",
       "      <th>h_n+1</th>\n",
       "    </tr>\n",
       "  </thead>\n",
       "  <tbody>\n",
       "    <tr>\n",
       "      <th>0</th>\n",
       "      <td>0.416667</td>\n",
       "      <td>0.408333</td>\n",
       "      <td>0.008333</td>\n",
       "      <td>2.000000</td>\n",
       "      <td>1.000000</td>\n",
       "    </tr>\n",
       "    <tr>\n",
       "      <th>1</th>\n",
       "      <td>0.408333</td>\n",
       "      <td>0.406746</td>\n",
       "      <td>0.001587</td>\n",
       "      <td>1.000000</td>\n",
       "      <td>0.666667</td>\n",
       "    </tr>\n",
       "    <tr>\n",
       "      <th>2</th>\n",
       "      <td>0.406746</td>\n",
       "      <td>0.406187</td>\n",
       "      <td>0.000559</td>\n",
       "      <td>0.666667</td>\n",
       "      <td>0.500000</td>\n",
       "    </tr>\n",
       "    <tr>\n",
       "      <th>3</th>\n",
       "      <td>0.406187</td>\n",
       "      <td>0.405927</td>\n",
       "      <td>0.000259</td>\n",
       "      <td>0.500000</td>\n",
       "      <td>0.400000</td>\n",
       "    </tr>\n",
       "    <tr>\n",
       "      <th>4</th>\n",
       "      <td>0.405927</td>\n",
       "      <td>0.405786</td>\n",
       "      <td>0.000141</td>\n",
       "      <td>0.400000</td>\n",
       "      <td>0.333333</td>\n",
       "    </tr>\n",
       "    <tr>\n",
       "      <th>5</th>\n",
       "      <td>0.405786</td>\n",
       "      <td>0.405701</td>\n",
       "      <td>0.000085</td>\n",
       "      <td>0.333333</td>\n",
       "      <td>0.285714</td>\n",
       "    </tr>\n",
       "    <tr>\n",
       "      <th>6</th>\n",
       "      <td>0.405701</td>\n",
       "      <td>0.405646</td>\n",
       "      <td>0.000055</td>\n",
       "      <td>0.285714</td>\n",
       "      <td>0.250000</td>\n",
       "    </tr>\n",
       "    <tr>\n",
       "      <th>7</th>\n",
       "      <td>0.405646</td>\n",
       "      <td>0.405608</td>\n",
       "      <td>0.000038</td>\n",
       "      <td>0.250000</td>\n",
       "      <td>0.222222</td>\n",
       "    </tr>\n",
       "    <tr>\n",
       "      <th>8</th>\n",
       "      <td>0.405608</td>\n",
       "      <td>0.405581</td>\n",
       "      <td>0.000027</td>\n",
       "      <td>0.222222</td>\n",
       "      <td>0.200000</td>\n",
       "    </tr>\n",
       "    <tr>\n",
       "      <th>9</th>\n",
       "      <td>0.405581</td>\n",
       "      <td>0.405561</td>\n",
       "      <td>0.000020</td>\n",
       "      <td>0.200000</td>\n",
       "      <td>0.181818</td>\n",
       "    </tr>\n",
       "    <tr>\n",
       "      <th>10</th>\n",
       "      <td>0.405561</td>\n",
       "      <td>0.405545</td>\n",
       "      <td>0.000015</td>\n",
       "      <td>0.181818</td>\n",
       "      <td>0.166667</td>\n",
       "    </tr>\n",
       "    <tr>\n",
       "      <th>11</th>\n",
       "      <td>0.405545</td>\n",
       "      <td>0.405534</td>\n",
       "      <td>0.000012</td>\n",
       "      <td>0.166667</td>\n",
       "      <td>0.153846</td>\n",
       "    </tr>\n",
       "    <tr>\n",
       "      <th>12</th>\n",
       "      <td>0.405534</td>\n",
       "      <td>0.405524</td>\n",
       "      <td>0.000009</td>\n",
       "      <td>0.153846</td>\n",
       "      <td>0.142857</td>\n",
       "    </tr>\n",
       "  </tbody>\n",
       "</table>\n",
       "</div>"
      ],
      "text/plain": [
       "      Area_n  Area_n+1     error       h_n     h_n+1\n",
       "0   0.416667  0.408333  0.008333  2.000000  1.000000\n",
       "1   0.408333  0.406746  0.001587  1.000000  0.666667\n",
       "2   0.406746  0.406187  0.000559  0.666667  0.500000\n",
       "3   0.406187  0.405927  0.000259  0.500000  0.400000\n",
       "4   0.405927  0.405786  0.000141  0.400000  0.333333\n",
       "5   0.405786  0.405701  0.000085  0.333333  0.285714\n",
       "6   0.405701  0.405646  0.000055  0.285714  0.250000\n",
       "7   0.405646  0.405608  0.000038  0.250000  0.222222\n",
       "8   0.405608  0.405581  0.000027  0.222222  0.200000\n",
       "9   0.405581  0.405561  0.000020  0.200000  0.181818\n",
       "10  0.405561  0.405545  0.000015  0.181818  0.166667\n",
       "11  0.405545  0.405534  0.000012  0.166667  0.153846\n",
       "12  0.405534  0.405524  0.000009  0.153846  0.142857"
      ]
     },
     "execution_count": 7,
     "metadata": {},
     "output_type": "execute_result"
    }
   ],
   "source": [
    "trapZoidDF"
   ]
  },
  {
   "cell_type": "markdown",
   "id": "fe46a854-3995-4280-a90d-9f45d14016db",
   "metadata": {},
   "source": [
    "#### Composite Simpson's Rule"
   ]
  },
  {
   "cell_type": "code",
   "execution_count": 8,
   "id": "dfeff898-2621-46d9-b791-0d39a7dd0421",
   "metadata": {},
   "outputs": [],
   "source": [
    "def defPoints(a,b,n):\n",
    "    points = list(np.linspace(a, b,2*n+1))\n",
    "    distance = points[1]-points[0]\n",
    "    threePointGroups = [points[i:i+3] for i in range(0,len(points),2)][0:-1]\n",
    "    return threePointGroups, distance\n",
    "    \n",
    "def compositeSimpsonsRuleWTOL(tol,f):\n",
    "    iterationPreviousAreas = []\n",
    "    iterationForwardAreas = []\n",
    "    distancePrevious = []\n",
    "    distanceForward = []\n",
    "    errorProduced = []\n",
    "    distancesBetweenAreas = []\n",
    "    \n",
    "    n = 1\n",
    "    while True:\n",
    "        threePointGroups1,distance1 = defPoints(0,2,n)\n",
    "        simpsonRuleSum1 = sum([pX_lagrangeIntegral(threePoints[0],threePoints[1],threePoints[2],f) for threePoints in threePointGroups1])\n",
    "    \n",
    "        iterationPreviousAreas.append(simpsonRuleSum1)\n",
    "        distancePrevious.append(distance1)\n",
    "        \n",
    "        m = n+1\n",
    "        threePointGroups2,distance2 = defPoints(0,2,m)\n",
    "        simpsonRuleSum2 = sum([pX_lagrangeIntegral(threePoints[0],threePoints[1],threePoints[2],f) for threePoints in threePointGroups2])\n",
    "        \n",
    "        iterationForwardAreas.append(simpsonRuleSum2)\n",
    "        distanceForward.append(distance2)\n",
    "\n",
    "        error = abs(simpsonRuleSum1-simpsonRuleSum2)\n",
    "        errorProduced.append(error)\n",
    "        \n",
    "        if error <= tol:\n",
    "            break\n",
    "        n+=1\n",
    "    return iterationPreviousAreas,iterationForwardAreas,errorProduced,distancePrevious,distanceForward"
   ]
  },
  {
   "cell_type": "code",
   "execution_count": 9,
   "id": "73632c6e-4f9c-48e3-8d02-f3ea418f4745",
   "metadata": {},
   "outputs": [],
   "source": [
    "iterationPreviousAreas,iterationForwardAreas,errorProduced,distancePrevious,distanceForward = compositeSimpsonsRuleWTOL(10**(-5),f)\n",
    "homerSimpsons = {\n",
    "    \"Area_n\": iterationPreviousAreas,\n",
    "    \"Area_n+1\": iterationForwardAreas,\n",
    "    \"error\": errorProduced,\n",
    "    \"h_n\": distancePrevious,\n",
    "    \"h_n+1\": distanceForward\n",
    "}\n",
    "\n",
    "homerSimpsonsDF = pd.DataFrame(homerSimpsons)"
   ]
  },
  {
   "cell_type": "code",
   "execution_count": 10,
   "id": "299f5021-bbc6-488c-b785-c3de77e4992c",
   "metadata": {},
   "outputs": [
    {
     "data": {
      "text/html": [
       "<div>\n",
       "<style scoped>\n",
       "    .dataframe tbody tr th:only-of-type {\n",
       "        vertical-align: middle;\n",
       "    }\n",
       "\n",
       "    .dataframe tbody tr th {\n",
       "        vertical-align: top;\n",
       "    }\n",
       "\n",
       "    .dataframe thead th {\n",
       "        text-align: right;\n",
       "    }\n",
       "</style>\n",
       "<table border=\"1\" class=\"dataframe\">\n",
       "  <thead>\n",
       "    <tr style=\"text-align: right;\">\n",
       "      <th></th>\n",
       "      <th>Area_n</th>\n",
       "      <th>Area_n+1</th>\n",
       "      <th>error</th>\n",
       "      <th>h_n</th>\n",
       "      <th>h_n+1</th>\n",
       "    </tr>\n",
       "  </thead>\n",
       "  <tbody>\n",
       "    <tr>\n",
       "      <th>0</th>\n",
       "      <td>0.405555555555556</td>\n",
       "      <td>0.405471380471380</td>\n",
       "      <td>8.41750841751865e-5</td>\n",
       "      <td>1.0</td>\n",
       "      <td>0.500000</td>\n",
       "    </tr>\n",
       "    <tr>\n",
       "      <th>1</th>\n",
       "      <td>0.405471380471380</td>\n",
       "      <td>0.405466374584021</td>\n",
       "      <td>5.00588735935503e-6</td>\n",
       "      <td>0.5</td>\n",
       "      <td>0.333333</td>\n",
       "    </tr>\n",
       "  </tbody>\n",
       "</table>\n",
       "</div>"
      ],
      "text/plain": [
       "              Area_n           Area_n+1                error  h_n     h_n+1\n",
       "0  0.405555555555556  0.405471380471380  8.41750841751865e-5  1.0  0.500000\n",
       "1  0.405471380471380  0.405466374584021  5.00588735935503e-6  0.5  0.333333"
      ]
     },
     "execution_count": 10,
     "metadata": {},
     "output_type": "execute_result"
    }
   ],
   "source": [
    "homerSimpsonsDF"
   ]
  },
  {
   "cell_type": "markdown",
   "id": "b4129389-85bc-49a7-be0c-3c74fce8830e",
   "metadata": {},
   "source": [
    "#### Composite Midpoint Rule"
   ]
  },
  {
   "cell_type": "code",
   "execution_count": 11,
   "id": "1f300725-b18a-46b6-baaa-974ff30b7689",
   "metadata": {},
   "outputs": [],
   "source": [
    "def defPointsMID(a,b,n):\n",
    "    points = list(np.linspace(a, b,n+1))\n",
    "    distance = points[1]-points[0]\n",
    "    twoPointGroups = [points[i:i+2] for i in range(0,len(points))][0:-1]\n",
    "    return twoPointGroups, distance\n",
    "\n",
    "def compositeMidpointRuleWTOL(tol,f):\n",
    "    iterationPreviousAreas = []\n",
    "    iterationForwardAreas = []\n",
    "    distancePrevious = []\n",
    "    distanceForward = []\n",
    "    errorProduced = []\n",
    "    distancesBetweenAreas = []\n",
    "    \n",
    "    n = 1\n",
    "    while True:\n",
    "        twoPointGroups1,distance1 = defPointsMID(0,2,n)\n",
    "        midRuleSum1 = distance1*sum([calculateMidPoint(twoPointGroup[0],twoPointGroup[1],f) for twoPointGroup in twoPointGroups1])\n",
    "    \n",
    "        iterationPreviousAreas.append(midRuleSum1)\n",
    "        distancePrevious.append(distance1)\n",
    "        \n",
    "        m = n+1\n",
    "        twoPointGroups2,distance2 = defPointsMID(0,2,m)\n",
    "        midRuleSum2 = distance2*sum([calculateMidPoint(twoPointGroup[0],twoPointGroup[1],f) for twoPointGroup in twoPointGroups2])\n",
    "        \n",
    "        iterationForwardAreas.append(midRuleSum2)\n",
    "        distanceForward.append(distance2)\n",
    "\n",
    "        error = abs(midRuleSum1-midRuleSum2)\n",
    "        errorProduced.append(error)\n",
    "        \n",
    "        if error <= tol:\n",
    "            break\n",
    "        n+=1\n",
    "    return iterationPreviousAreas,iterationForwardAreas,errorProduced,distancePrevious,distanceForward"
   ]
  },
  {
   "cell_type": "code",
   "execution_count": 12,
   "id": "5041bc02-f295-4901-9fe2-3fe6ca88040b",
   "metadata": {},
   "outputs": [],
   "source": [
    "iterationPreviousAreas,iterationForwardAreas,errorProduced,distancePrevious,distanceForward = compositeMidpointRuleWTOL(10**(-5),f)\n",
    "midRule = {\n",
    "    \"Area_n\": iterationPreviousAreas,\n",
    "    \"Area_n+1\": iterationForwardAreas,\n",
    "    \"error\": errorProduced,\n",
    "    \"h_n\": distancePrevious,\n",
    "    \"h_n+1\": distanceForward\n",
    "}\n",
    "\n",
    "midRuleDF = pd.DataFrame(midRule)"
   ]
  },
  {
   "cell_type": "code",
   "execution_count": 13,
   "id": "98cf9c02-ddb7-4929-80e6-5eca2cafab9d",
   "metadata": {},
   "outputs": [
    {
     "data": {
      "text/html": [
       "<div>\n",
       "<style scoped>\n",
       "    .dataframe tbody tr th:only-of-type {\n",
       "        vertical-align: middle;\n",
       "    }\n",
       "\n",
       "    .dataframe tbody tr th {\n",
       "        vertical-align: top;\n",
       "    }\n",
       "\n",
       "    .dataframe thead th {\n",
       "        text-align: right;\n",
       "    }\n",
       "</style>\n",
       "<table border=\"1\" class=\"dataframe\">\n",
       "  <thead>\n",
       "    <tr style=\"text-align: right;\">\n",
       "      <th></th>\n",
       "      <th>Area_n</th>\n",
       "      <th>Area_n+1</th>\n",
       "      <th>error</th>\n",
       "      <th>h_n</th>\n",
       "      <th>h_n+1</th>\n",
       "    </tr>\n",
       "  </thead>\n",
       "  <tbody>\n",
       "    <tr>\n",
       "      <th>0</th>\n",
       "      <td>0.400000</td>\n",
       "      <td>0.404040</td>\n",
       "      <td>0.004040</td>\n",
       "      <td>2.000000</td>\n",
       "      <td>1.000000</td>\n",
       "    </tr>\n",
       "    <tr>\n",
       "      <th>1</th>\n",
       "      <td>0.404040</td>\n",
       "      <td>0.404827</td>\n",
       "      <td>0.000786</td>\n",
       "      <td>1.000000</td>\n",
       "      <td>0.666667</td>\n",
       "    </tr>\n",
       "    <tr>\n",
       "      <th>2</th>\n",
       "      <td>0.404827</td>\n",
       "      <td>0.405105</td>\n",
       "      <td>0.000278</td>\n",
       "      <td>0.666667</td>\n",
       "      <td>0.500000</td>\n",
       "    </tr>\n",
       "    <tr>\n",
       "      <th>3</th>\n",
       "      <td>0.405105</td>\n",
       "      <td>0.405234</td>\n",
       "      <td>0.000129</td>\n",
       "      <td>0.500000</td>\n",
       "      <td>0.400000</td>\n",
       "    </tr>\n",
       "    <tr>\n",
       "      <th>4</th>\n",
       "      <td>0.405234</td>\n",
       "      <td>0.405305</td>\n",
       "      <td>0.000070</td>\n",
       "      <td>0.400000</td>\n",
       "      <td>0.333333</td>\n",
       "    </tr>\n",
       "    <tr>\n",
       "      <th>5</th>\n",
       "      <td>0.405305</td>\n",
       "      <td>0.405347</td>\n",
       "      <td>0.000043</td>\n",
       "      <td>0.333333</td>\n",
       "      <td>0.285714</td>\n",
       "    </tr>\n",
       "    <tr>\n",
       "      <th>6</th>\n",
       "      <td>0.405347</td>\n",
       "      <td>0.405375</td>\n",
       "      <td>0.000028</td>\n",
       "      <td>0.285714</td>\n",
       "      <td>0.250000</td>\n",
       "    </tr>\n",
       "    <tr>\n",
       "      <th>7</th>\n",
       "      <td>0.405375</td>\n",
       "      <td>0.405394</td>\n",
       "      <td>0.000019</td>\n",
       "      <td>0.250000</td>\n",
       "      <td>0.222222</td>\n",
       "    </tr>\n",
       "    <tr>\n",
       "      <th>8</th>\n",
       "      <td>0.405394</td>\n",
       "      <td>0.405407</td>\n",
       "      <td>0.000014</td>\n",
       "      <td>0.222222</td>\n",
       "      <td>0.200000</td>\n",
       "    </tr>\n",
       "    <tr>\n",
       "      <th>9</th>\n",
       "      <td>0.405407</td>\n",
       "      <td>0.405417</td>\n",
       "      <td>0.000010</td>\n",
       "      <td>0.200000</td>\n",
       "      <td>0.181818</td>\n",
       "    </tr>\n",
       "    <tr>\n",
       "      <th>10</th>\n",
       "      <td>0.405417</td>\n",
       "      <td>0.405425</td>\n",
       "      <td>0.000008</td>\n",
       "      <td>0.181818</td>\n",
       "      <td>0.166667</td>\n",
       "    </tr>\n",
       "  </tbody>\n",
       "</table>\n",
       "</div>"
      ],
      "text/plain": [
       "      Area_n  Area_n+1     error       h_n     h_n+1\n",
       "0   0.400000  0.404040  0.004040  2.000000  1.000000\n",
       "1   0.404040  0.404827  0.000786  1.000000  0.666667\n",
       "2   0.404827  0.405105  0.000278  0.666667  0.500000\n",
       "3   0.405105  0.405234  0.000129  0.500000  0.400000\n",
       "4   0.405234  0.405305  0.000070  0.400000  0.333333\n",
       "5   0.405305  0.405347  0.000043  0.333333  0.285714\n",
       "6   0.405347  0.405375  0.000028  0.285714  0.250000\n",
       "7   0.405375  0.405394  0.000019  0.250000  0.222222\n",
       "8   0.405394  0.405407  0.000014  0.222222  0.200000\n",
       "9   0.405407  0.405417  0.000010  0.200000  0.181818\n",
       "10  0.405417  0.405425  0.000008  0.181818  0.166667"
      ]
     },
     "execution_count": 13,
     "metadata": {},
     "output_type": "execute_result"
    }
   ],
   "source": [
    "midRuleDF"
   ]
  },
  {
   "cell_type": "markdown",
   "id": "6f9b6df4-e268-4a6b-a0cd-52b2b0d41cd9",
   "metadata": {},
   "source": [
    "## Question 3"
   ]
  },
  {
   "cell_type": "markdown",
   "id": "5bd8e9ff-dfde-42ce-b9a0-54a842bb701d",
   "metadata": {},
   "source": [
    "#### Gauss Quadrature n=2"
   ]
  },
  {
   "cell_type": "code",
   "execution_count": 14,
   "id": "d074ca30-ff27-49d1-baec-e5e89bb8af65",
   "metadata": {},
   "outputs": [],
   "source": [
    "def gaussQuad(a,b,n,f):\n",
    "    nodes, weights = np.polynomial.legendre.leggauss(n)\n",
    "    nodes = nodes.tolist()\n",
    "    weights = weights.tolist()\n",
    "\n",
    "    scalarMultiplier = (b-a)/2\n",
    "    mappedNodes = [((b-a)/2)*xi+((b+a)/2) for xi in nodes]\n",
    "    getFunctionValues = [f(xi) for xi in mappedNodes]\n",
    "    \n",
    "    weightWithFunc = list(zip(weights, getFunctionValues))\n",
    "    multiplyWeightAndFunc = sum([w * funcVal for w, funcVal in weightWithFunc])\n",
    "    multiplyWeightAndFuncWithScalar = scalarMultiplier*multiplyWeightAndFunc\n",
    "\n",
    "    return multiplyWeightAndFuncWithScalar\n",
    "def g(x):\n",
    "    return (x**2)*((m.e)**x)"
   ]
  },
  {
   "cell_type": "code",
   "execution_count": 15,
   "id": "c15a10e4-cde1-4357-a89d-ed922641c3ed",
   "metadata": {},
   "outputs": [
    {
     "data": {
      "text/plain": [
       "0.7119417742422697"
      ]
     },
     "execution_count": 15,
     "metadata": {},
     "output_type": "execute_result"
    }
   ],
   "source": [
    "integralGaussValue = gaussQuad(0,1,2,g)\n",
    "integralGaussValue"
   ]
  },
  {
   "cell_type": "markdown",
   "id": "b0489ae3-6c7c-40fe-8596-b0284ebf9704",
   "metadata": {},
   "source": [
    "## Question 4"
   ]
  },
  {
   "cell_type": "code",
   "execution_count": 16,
   "id": "1cc578dc-0a7a-446f-9994-c415e112f05c",
   "metadata": {},
   "outputs": [],
   "source": [
    "def mappingValues(b,a,f,nodes,weights,otherVar):\n",
    "    scalarMultiplier = (b-a)/2\n",
    "    mappedNodes = [((b-a)/2)*xi+((b+a)/2) for xi in nodes]\n",
    "    getFunctionValues = [f.subs(otherVar, xi) for xi in mappedNodes]\n",
    "\n",
    "    weightWithFunc = list(zip(weights, getFunctionValues))\n",
    "    multiplyWeightAndFunc = sum([w * funcVal for w, funcVal in weightWithFunc])\n",
    "    multiplyWeightAndFuncWithScalar = scalarMultiplier*multiplyWeightAndFunc\n",
    "\n",
    "    result = sp.simplify(multiplyWeightAndFuncWithScalar)\n",
    "\n",
    "    return result\n",
    "\n",
    "def gaussQuadDouble(n):\n",
    "    x, y = sp.symbols('x y')\n",
    "    f = x**2 + sp.sqrt(y)\n",
    "    \n",
    "    nodes, weights = np.polynomial.legendre.leggauss(n)\n",
    "    nodes = nodes.tolist()\n",
    "    weights = weights.tolist()\n",
    "\n",
    "    newFunction = mappingValues(x,0,f,nodes,weights,y)\n",
    "\n",
    "    b=1.5\n",
    "    a=1\n",
    "    \n",
    "    scalarMultiplier = (b-a)/2\n",
    "    mappedNodes = [((b-a)/2)*xi+((b+a)/2) for xi in nodes]\n",
    "    getFunctionValues = [newFunction.subs(x, xi) for xi in mappedNodes]\n",
    "    \n",
    "    weightWithFunc = list(zip(weights, getFunctionValues))\n",
    "    multiplyWeightAndFunc = sum([w * funcVal for w, funcVal in weightWithFunc])\n",
    "    multiplyWeightAndFuncWithScalar = scalarMultiplier*multiplyWeightAndFunc\n",
    "    \n",
    "    return multiplyWeightAndFuncWithScalar"
   ]
  },
  {
   "cell_type": "code",
   "execution_count": 17,
   "id": "66e1043f-7a17-44f5-b4e2-e42c4d9df9f5",
   "metadata": {},
   "outputs": [
    {
     "name": "stdout",
     "output_type": "stream",
     "text": [
      "1.48462057710979\n"
     ]
    }
   ],
   "source": [
    "print(gaussQuadDouble(4))"
   ]
  },
  {
   "cell_type": "markdown",
   "id": "fb2692a9-b878-43b9-8e39-ad1b804d3dfd",
   "metadata": {},
   "source": [
    "## Question 5"
   ]
  },
  {
   "cell_type": "markdown",
   "id": "52460035-d6e0-4e31-8d18-19248a02c6da",
   "metadata": {},
   "source": [
    "Show that the following ordinary differential equation\n",
    "$$y'=y\\cos(t) \\text{, }\\hspace{0.2cm}0\\leq t \\leq 1 \\text{, }\\hspace{0.2cm}y(0)=1$$\n",
    "has a unique solution.\n",
    "\n",
    "PF:\n",
    "Applying the Mean value theorem to\n",
    "$$f(t,y) = y\\cos(t)$$\n",
    "when $y_1 < y_2$ there exists a number $c\\in(y_1,y_2)$ exists with\n",
    "$$\\frac{f(t,y_2)-f(t,y_1)}{y_2-y_1} = \\frac{\\partial}{\\partial y} f(t,c) = \\cos(c)$$\n",
    "thus,\n",
    "$$|f(t,y_2)-f(t,y_1)|= |y_2-y_1| |\\cos(c)|\\leq1|y_2-y_1|$$\n",
    "the $f$ satisfies a Lipschitz condition in the variable $y$ with Lipschitz constant $L=1$.\n",
    "\n",
    "Additionally, it $f(t,y)$ is continuous when $0\\leq t \\leq 1$ and $-\\infty\\leq y \\leq \\infty$, to the theorem implies that a unique solution exists to this initial value problem."
   ]
  },
  {
   "cell_type": "markdown",
   "id": "ef443c17-b68f-4074-b455-becdcafb5672",
   "metadata": {},
   "source": [
    "# Section II"
   ]
  },
  {
   "cell_type": "code",
   "execution_count": 22,
   "id": "47354fe9-cc4c-4c37-bbae-3bbb889f42d6",
   "metadata": {},
   "outputs": [],
   "source": [
    "x, y = sp.symbols('x y')\n",
    "diff_eq = (2-2*x*y)/(1+x**2)\n",
    "og_func = (2*x+1)/(1+x**2)"
   ]
  },
  {
   "cell_type": "code",
   "execution_count": 54,
   "id": "17fc4542-af26-4df6-92c4-1642e3354429",
   "metadata": {},
   "outputs": [],
   "source": [
    "def euler_method(diff_eq,h,interval,y_0=1,x_0=0):\n",
    "    n_points = int((interval[-1] - interval[0]) / h) + 1\n",
    "    x_points = np.linspace(interval[0],interval[-1],n_points)\n",
    "    y_vals = [y_0]\n",
    "    for i in range(n_points-1):\n",
    "        y_1 = h*float(diff_eq.subs({x: x_points[i], y: y_vals[i]}))+y_vals[i]\n",
    "        y_vals.append(y_1)\n",
    "    return y_vals\n",
    "all_y_points_euler = euler_method(diff_eq,0.1,(0,1))"
   ]
  },
  {
   "cell_type": "code",
   "execution_count": 55,
   "id": "75a7c949-656a-4ece-9a87-8e4526d5d3f8",
   "metadata": {},
   "outputs": [],
   "source": [
    "def midpoint_method(diff_eq,h,interval,y_0=1,x_0=0):\n",
    "    n_points = int((interval[-1] - interval[0]) / h) + 1\n",
    "    x_points = np.linspace(interval[0],interval[-1],n_points)\n",
    "    y_vals = [y_0]\n",
    "    for i in range(n_points-1):\n",
    "        k_1 = float(diff_eq.subs({x: x_points[i], y: y_vals[i]}))\n",
    "        k_2 = float(diff_eq.subs({x: x_points[i]+(h/2), y: y_vals[i]+(h/2)*k_1}))\n",
    "        y_1 = h*k_2+y_vals[i]\n",
    "        y_vals.append(y_1)\n",
    "    return y_vals\n",
    "all_y_points_midPoint = midpoint_method(diff_eq,0.1,(0,1))"
   ]
  },
  {
   "cell_type": "code",
   "execution_count": 56,
   "id": "2840956e-b8a7-474a-95b4-7529c83281d2",
   "metadata": {},
   "outputs": [],
   "source": [
    "def modified_euler_method(diff_eq,h,interval,y_0=1,x_0=0):\n",
    "    n_points = int((interval[-1] - interval[0]) / h) + 1\n",
    "    x_points = np.linspace(interval[0],interval[-1],n_points)\n",
    "    y_vals = [y_0]\n",
    "    for i in range(n_points-1):\n",
    "        k_1 = float(diff_eq.subs({x: x_points[i], y: y_vals[i]}))\n",
    "        k_2 = float(diff_eq.subs({x: x_points[i]+h, y: y_vals[i]+h*k_1}))\n",
    "        average_k = (k_1+k_2)/2\n",
    "        y_1 = h*average_k+y_vals[i]\n",
    "        y_vals.append(y_1)\n",
    "    return y_vals\n",
    "all_y_points_modified_euler_method = modified_euler_method(diff_eq,0.1,(0,1))"
   ]
  },
  {
   "cell_type": "code",
   "execution_count": 57,
   "id": "5daa7512-47de-4e2b-b48b-366c106a86b6",
   "metadata": {},
   "outputs": [],
   "source": [
    "def rugna_kunta_4_method(diff_eq,h,interval,y_0=1,x_0=0):\n",
    "    n_points = int((interval[-1] - interval[0]) / h) + 1\n",
    "    x_points = np.linspace(interval[0],interval[-1],n_points)\n",
    "    y_vals = [y_0]\n",
    "    for i in range(n_points-1):\n",
    "        k_1 = float(diff_eq.subs({x: x_points[i], y: y_vals[i]}))\n",
    "        k_2 = float(diff_eq.subs({x: x_points[i]+(h/2), y: y_vals[i]+(h/2)*k_1}))\n",
    "        k_3 = float(diff_eq.subs({x: x_points[i]+(h/2), y: y_vals[i]+(h/2)*k_2}))\n",
    "        k_4 = float(diff_eq.subs({x: x_points[i]+h, y: y_vals[i]+h*k_3}))\n",
    "        y_1 = ((h/6)*(k_1+2*k_2+2*k_3+k_4))+y_vals[i]\n",
    "        y_vals.append(y_1)\n",
    "    return y_vals\n",
    "all_y_points_rugna_kunta = rugna_kunta_4_method(diff_eq,0.1,(0,1))"
   ]
  },
  {
   "cell_type": "code",
   "execution_count": 66,
   "id": "aac4eb89-1815-4118-926d-ecf2ad1dac38",
   "metadata": {},
   "outputs": [
    {
     "data": {
      "text/html": [
       "<div>\n",
       "<style scoped>\n",
       "    .dataframe tbody tr th:only-of-type {\n",
       "        vertical-align: middle;\n",
       "    }\n",
       "\n",
       "    .dataframe tbody tr th {\n",
       "        vertical-align: top;\n",
       "    }\n",
       "\n",
       "    .dataframe thead th {\n",
       "        text-align: right;\n",
       "    }\n",
       "</style>\n",
       "<table border=\"1\" class=\"dataframe\">\n",
       "  <thead>\n",
       "    <tr style=\"text-align: right;\">\n",
       "      <th></th>\n",
       "      <th>x</th>\n",
       "      <th>OG Function</th>\n",
       "      <th>Euler</th>\n",
       "      <th>Midpoint</th>\n",
       "      <th>Modified Euler</th>\n",
       "      <th>Runge-Kutta</th>\n",
       "    </tr>\n",
       "  </thead>\n",
       "  <tbody>\n",
       "    <tr>\n",
       "      <th>0</th>\n",
       "      <td>0.000000</td>\n",
       "      <td>1.00000000000000</td>\n",
       "      <td>1.000000</td>\n",
       "      <td>1.000000</td>\n",
       "      <td>1.000000</td>\n",
       "      <td>1.000000</td>\n",
       "    </tr>\n",
       "    <tr>\n",
       "      <th>1</th>\n",
       "      <td>0.111111</td>\n",
       "      <td>1.20731707317073</td>\n",
       "      <td>1.200000</td>\n",
       "      <td>1.188529</td>\n",
       "      <td>1.187129</td>\n",
       "      <td>1.188119</td>\n",
       "    </tr>\n",
       "    <tr>\n",
       "      <th>2</th>\n",
       "      <td>0.222222</td>\n",
       "      <td>1.37647058823529</td>\n",
       "      <td>1.374257</td>\n",
       "      <td>1.346697</td>\n",
       "      <td>1.344353</td>\n",
       "      <td>1.346154</td>\n",
       "    </tr>\n",
       "    <tr>\n",
       "      <th>3</th>\n",
       "      <td>0.333333</td>\n",
       "      <td>1.50000000000000</td>\n",
       "      <td>1.513709</td>\n",
       "      <td>1.468252</td>\n",
       "      <td>1.465527</td>\n",
       "      <td>1.467889</td>\n",
       "    </tr>\n",
       "    <tr>\n",
       "      <th>4</th>\n",
       "      <td>0.444444</td>\n",
       "      <td>1.57731958762887</td>\n",
       "      <td>1.613872</td>\n",
       "      <td>1.551663</td>\n",
       "      <td>1.549061</td>\n",
       "      <td>1.551723</td>\n",
       "    </tr>\n",
       "    <tr>\n",
       "      <th>5</th>\n",
       "      <td>0.555556</td>\n",
       "      <td>1.61320754716981</td>\n",
       "      <td>1.674984</td>\n",
       "      <td>1.599403</td>\n",
       "      <td>1.597266</td>\n",
       "      <td>1.599999</td>\n",
       "    </tr>\n",
       "    <tr>\n",
       "      <th>6</th>\n",
       "      <td>0.666667</td>\n",
       "      <td>1.61538461538462</td>\n",
       "      <td>1.700985</td>\n",
       "      <td>1.616526</td>\n",
       "      <td>1.615016</td>\n",
       "      <td>1.617645</td>\n",
       "    </tr>\n",
       "    <tr>\n",
       "      <th>7</th>\n",
       "      <td>0.777778</td>\n",
       "      <td>1.59230769230769</td>\n",
       "      <td>1.697957</td>\n",
       "      <td>1.609190</td>\n",
       "      <td>1.608321</td>\n",
       "      <td>1.610736</td>\n",
       "    </tr>\n",
       "    <tr>\n",
       "      <th>8</th>\n",
       "      <td>0.888889</td>\n",
       "      <td>1.55172413793103</td>\n",
       "      <td>1.672646</td>\n",
       "      <td>1.583522</td>\n",
       "      <td>1.583221</td>\n",
       "      <td>1.585364</td>\n",
       "    </tr>\n",
       "    <tr>\n",
       "      <th>9</th>\n",
       "      <td>1.000000</td>\n",
       "      <td>1.50000000000000</td>\n",
       "      <td>1.631412</td>\n",
       "      <td>1.544955</td>\n",
       "      <td>1.545108</td>\n",
       "      <td>1.546960</td>\n",
       "    </tr>\n",
       "    <tr>\n",
       "      <th>10</th>\n",
       "      <td>1.100000</td>\n",
       "      <td>1.44796380090498</td>\n",
       "      <td>1.579669</td>\n",
       "      <td>1.497941</td>\n",
       "      <td>1.498431</td>\n",
       "      <td>1.499998</td>\n",
       "    </tr>\n",
       "  </tbody>\n",
       "</table>\n",
       "</div>"
      ],
      "text/plain": [
       "           x       OG Function     Euler  Midpoint  Modified Euler  \\\n",
       "0   0.000000  1.00000000000000  1.000000  1.000000        1.000000   \n",
       "1   0.111111  1.20731707317073  1.200000  1.188529        1.187129   \n",
       "2   0.222222  1.37647058823529  1.374257  1.346697        1.344353   \n",
       "3   0.333333  1.50000000000000  1.513709  1.468252        1.465527   \n",
       "4   0.444444  1.57731958762887  1.613872  1.551663        1.549061   \n",
       "5   0.555556  1.61320754716981  1.674984  1.599403        1.597266   \n",
       "6   0.666667  1.61538461538462  1.700985  1.616526        1.615016   \n",
       "7   0.777778  1.59230769230769  1.697957  1.609190        1.608321   \n",
       "8   0.888889  1.55172413793103  1.672646  1.583522        1.583221   \n",
       "9   1.000000  1.50000000000000  1.631412  1.544955        1.545108   \n",
       "10  1.100000  1.44796380090498  1.579669  1.497941        1.498431   \n",
       "\n",
       "    Runge-Kutta  \n",
       "0      1.000000  \n",
       "1      1.188119  \n",
       "2      1.346154  \n",
       "3      1.467889  \n",
       "4      1.551723  \n",
       "5      1.599999  \n",
       "6      1.617645  \n",
       "7      1.610736  \n",
       "8      1.585364  \n",
       "9      1.546960  \n",
       "10     1.499998  "
      ]
     },
     "execution_count": 66,
     "metadata": {},
     "output_type": "execute_result"
    }
   ],
   "source": [
    "h = 0.1\n",
    "n_points = int(1 / h)\n",
    "x_points = np.linspace(0, 1, n_points)\n",
    "x_points = np.append(x_points, x_points[-1] + h)\n",
    "\n",
    "og_y_func_points = []\n",
    "for xi in x_points:\n",
    "    yi = og_func.subs(x,xi)\n",
    "    og_y_func_points.append(yi)\n",
    "\n",
    "diff_eq_y_outcomes = {\n",
    "    \"x\":x_points,\n",
    "    \"OG Function\":og_y_func_points,\n",
    "    \"Euler\":all_y_points_euler,\n",
    "    \"Midpoint\":all_y_points_midPoint,\n",
    "    \"Modified Euler\":all_y_points_modified_euler_method,\n",
    "    \"Runge-Kutta\":all_y_points_rugna_kunta\n",
    "}\n",
    "diff_eq_y_outcomes_df = pd.DataFrame(diff_eq_y_outcomes)\n",
    "diff_eq_y_outcomes_df"
   ]
  },
  {
   "cell_type": "markdown",
   "id": "41605ebd-0c60-4ac1-b858-962fae45570e",
   "metadata": {},
   "source": [
    "# Section III"
   ]
  },
  {
   "cell_type": "code",
   "execution_count": 99,
   "id": "4d35fc9a-e958-4078-99e2-2b2d33e01e80",
   "metadata": {},
   "outputs": [],
   "source": [
    "u1,u2,u3,t = sp.symbols(\"u1 u2 u3 t\")\n",
    "diff_eq_1 = u1+2*u2-2*u3+np.e**t\n",
    "diff_eq_2 = u2+u3-2*np.e**t\n",
    "diff_eq_3 = u1+2*u2+np.e**t\n",
    "symbols_used = [t,u1,u2,u3]\n",
    "diff_eqs = [diff_eq_1,diff_eq_2,diff_eq_3]\n",
    "y_0 = [3,-1,1]"
   ]
  },
  {
   "cell_type": "code",
   "execution_count": 100,
   "id": "b5dffb71-54ed-4934-8898-2fdb69967bf6",
   "metadata": {},
   "outputs": [],
   "source": [
    "def runge_kutta_4_system(diff_eqs, symbols, h, interval, y_0):\n",
    "    t = symbols[0]\n",
    "    u_syms = symbols[1:]\n",
    "\n",
    "    n_points = int((interval[-1] - interval[0]) / h) + 1\n",
    "    t_points = np.linspace(interval[0], interval[-1], n_points)\n",
    "    u_vals = [np.array(y_0, dtype=float)]\n",
    "\n",
    "    for i in range(n_points - 1):\n",
    "        t_i = t_points[i]\n",
    "        u_i = u_vals[-1]\n",
    "        subs = lambda t_val, u_val: dict(zip([t] + u_syms, [t_val] + list(u_val)))\n",
    "\n",
    "        k_1 = np.array([float(eq.subs(subs(t_i,u_i))) for eq in diff_eqs])\n",
    "        k_2 = np.array([float(eq.subs(subs(t_i+(h/2),u_i+(h/2)*k_1))) for eq in diff_eqs])\n",
    "        k_3 = np.array([float(eq.subs(subs(t_i+(h/2),u_i+(h/2)*k_2))) for eq in diff_eqs])\n",
    "        k_4 = np.array([float(eq.subs(subs(t_i+h,u_i+h*k_3))) for eq in diff_eqs])\n",
    "        \n",
    "        u_1 = ((h/6)*(k_1+2*k_2+2*k_3+k_4))+u_i\n",
    "        u_vals.append(u_1)\n",
    "    return t_points,u_vals"
   ]
  },
  {
   "cell_type": "code",
   "execution_count": 101,
   "id": "494237f6-8c76-4bd7-9523-58412a39b15f",
   "metadata": {},
   "outputs": [],
   "source": [
    "t_points,runge_kutta_4_system_ans = runge_kutta_4_system(diff_eqs, symbols_used, 0.1, (0,1), y_0)"
   ]
  },
  {
   "cell_type": "code",
   "execution_count": 102,
   "id": "469ff986-41e1-40e0-acbc-9dd15ad92c7c",
   "metadata": {},
   "outputs": [
    {
     "data": {
      "text/plain": [
       "[array([ 3., -1.,  1.]),\n",
       " array([ 2.96434546, -1.2112465 ,  1.18326164]),\n",
       " array([ 2.85486541, -1.45070196,  1.32544091]),\n",
       " array([ 2.66800445, -1.72875233,  1.41350099]),\n",
       " array([ 2.4004914 , -2.05863242,  1.4318336 ]),\n",
       " array([ 2.04932052, -2.45705237,  1.36166904]),\n",
       " array([ 1.61172474, -2.94496184,  1.18034677]),\n",
       " array([ 1.08514047, -3.54848309,  0.86041523]),\n",
       " array([ 0.46716379, -4.30005061,  0.3685227 ]),\n",
       " array([-0.2445022 , -5.23980395, -0.33594707]),\n",
       " array([-1.05210926, -6.41729036, -1.30255158])]"
      ]
     },
     "execution_count": 102,
     "metadata": {},
     "output_type": "execute_result"
    }
   ],
   "source": [
    "runge_kutta_4_system_ans"
   ]
  },
  {
   "cell_type": "code",
   "execution_count": 103,
   "id": "8cf4165d-f89c-4207-97a6-fc8f62c1b796",
   "metadata": {},
   "outputs": [],
   "source": [
    "og_eq_u1 = -3*sp.E**(-t)-3*sp.sin(t)+6*sp.cos(t)\n",
    "og_eq_u2 = (3/2)*sp.E**(-t)+(3/10)*sp.sin(t)-(21/10)*sp.cos(t)-(2/5)*sp.E**(2*t)\n",
    "og_eq_u3 = -sp.E**(-t)+(12/5)*sp.cos(t)+(9/5)*sp.sin(t)-(2/5)*sp.E**(2*t)\n",
    "\n",
    "og_eq_u1_point=[]\n",
    "og_eq_u2_point=[]\n",
    "og_eq_u3_point=[]\n",
    "\n",
    "og_eq_u1_point=[float(og_val) for og_val in og_eq_u1_point]\n",
    "og_eq_u2_point=[float(og_val) for og_val in og_eq_u2_point]\n",
    "og_eq_u3_point=[float(og_val) for og_val in og_eq_u3_point]\n",
    "\n",
    "for ti in t_points:\n",
    "    u1_s = og_eq_u1.subs(t,ti)\n",
    "    u2_s = og_eq_u2.subs(t,ti)\n",
    "    u3_s = og_eq_u3.subs(t,ti)\n",
    "    og_eq_u1_point.append(u1_s)\n",
    "    og_eq_u2_point.append(u2_s)\n",
    "    og_eq_u3_point.append(u3_s)"
   ]
  },
  {
   "cell_type": "code",
   "execution_count": 104,
   "id": "c3241063-7101-401b-aa74-d205fe0654a1",
   "metadata": {},
   "outputs": [],
   "source": [
    "rk_eq_u1_point = np.transpose(runge_kutta_4_system_ans)[0].tolist()\n",
    "rk_eq_u2_point = np.transpose(runge_kutta_4_system_ans)[1].tolist()\n",
    "rk_eq_u3_point = np.transpose(runge_kutta_4_system_ans)[2].tolist()\n",
    "\n",
    "t_points = t_points.tolist()\n",
    "\n",
    "rk_eq_u1_point = [float(rk_val) for rk_val in rk_eq_u1_point]\n",
    "rk_eq_u2_point = [float(rk_val) for rk_val in rk_eq_u2_point]\n",
    "rk_eq_u3_point = [float(rk_val) for rk_val in rk_eq_u3_point]\n",
    "\n",
    "t_points = [float(t_val) for t_val in t_points]"
   ]
  },
  {
   "cell_type": "code",
   "execution_count": 109,
   "id": "ff2ae821-33c4-444c-96aa-09b78bd42240",
   "metadata": {},
   "outputs": [
    {
     "data": {
      "image/png": "[encoded data removed]",
      "text/plain": [
       "<Figure size 640x480 with 1 Axes>"
      ]
     },
     "metadata": {},
     "output_type": "display_data"
    }
   ],
   "source": [
    "plt.plot(t_points, rk_eq_u1_point, 'bo-', label='Runge-Kutta')\n",
    "plt.plot(t_points, og_eq_u1_point, 'r^-', label='Original U_1(t)')\n",
    "plt.xlabel('t')\n",
    "plt.ylabel('u')\n",
    "plt.suptitle('Accuracy of the Runge-Kutta for Systems',fontsize=14)\n",
    "plt.title(\"U_1(t)\",fontsize=10)\n",
    "plt.legend()\n",
    "plt.grid(True)\n",
    "plt.show()"
   ]
  },
  {
   "cell_type": "code",
   "execution_count": 110,
   "id": "d775e583-98fc-42bd-ae00-f8ccdab2edfe",
   "metadata": {},
   "outputs": [
    {
     "data": {
      "image/png": "[encoded data removed]",
      "text/plain": [
       "<Figure size 640x480 with 1 Axes>"
      ]
     },
     "metadata": {},
     "output_type": "display_data"
    }
   ],
   "source": [
    "plt.plot(t_points, rk_eq_u2_point, 'bo-', label='Runge-Kutta')\n",
    "plt.plot(t_points, og_eq_u2_point, 'r^-', label='Original U_2(t)')\n",
    "plt.xlabel('t')\n",
    "plt.ylabel('u')\n",
    "plt.suptitle('Accuracy of the Runge-Kutta for Systems',fontsize=14)\n",
    "plt.title(\"U_2(t)\",fontsize=10)\n",
    "plt.legend()\n",
    "plt.grid(True)\n",
    "plt.show()"
   ]
  },
  {
   "cell_type": "code",
   "execution_count": 111,
   "id": "135845e8-326d-4a19-ba69-96aa3e27dc5c",
   "metadata": {},
   "outputs": [
    {
     "data": {
      "image/png": "[encoded data removed]",
      "text/plain": [
       "<Figure size 640x480 with 1 Axes>"
      ]
     },
     "metadata": {},
     "output_type": "display_data"
    }
   ],
   "source": [
    "plt.plot(t_points, rk_eq_u3_point, 'bo-', label='Runge-Kutta')\n",
    "plt.plot(t_points, og_eq_u3_point, 'r^-', label='Original U_3(t)')\n",
    "plt.xlabel('t')\n",
    "plt.ylabel('u')\n",
    "plt.suptitle('Accuracy of the Runge-Kutta for Systems',fontsize=14)\n",
    "plt.title(\"U_3(t)\",fontsize=10)\n",
    "plt.legend()\n",
    "plt.grid(True)\n",
    "plt.show()"
   ]
  },
  {
   "cell_type": "code",
   "execution_count": null,
   "id": "9983ad44-74df-4c76-8e73-24d865930361",
   "metadata": {},
   "outputs": [],
   "source": []
  }
 ],
 "metadata": {
  "kernelspec": {
   "display_name": "Python 3 (ipykernel)",
   "language": "python",
   "name": "python3"
  },
  "language_info": {
   "codemirror_mode": {
    "name": "ipython",
    "version": 3
   },
   "file_extension": ".py",
   "mimetype": "text/x-python",
   "name": "python",
   "nbconvert_exporter": "python",
   "pygments_lexer": "ipython3",
   "version": "3.11.7"
  }
 },
 "nbformat": 4,
 "nbformat_minor": 5
}
