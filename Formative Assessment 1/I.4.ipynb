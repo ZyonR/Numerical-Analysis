{
 "cells": [
  {
   "cell_type": "markdown",
   "id": "89bc681c-3c51-4241-9e81-30afffffc1b6",
   "metadata": {},
   "source": [
    "Question 4: Use the fixed-point iteration method to determine a solution accurate to within $10^{-2}$ for $x^3 -x-1=0$ on [1,2]. Use $p_0 = 1$."
   ]
  },
  {
   "cell_type": "code",
   "execution_count": 10,
   "id": "d273d52c-f655-4af4-bce2-059fb2ab64db",
   "metadata": {},
   "outputs": [],
   "source": [
    "import math as m\n",
    "import pandas as pd\n",
    "\n",
    "def fixedPointMethod(p0,tolerance,gX,fX):\n",
    "    pn = []\n",
    "    fn = []\n",
    "    gn = []\n",
    "    while abs(p0 - gX(p0)) >= tolerance:\n",
    "        gn.append(gX(p0))\n",
    "        pn.append(p0)\n",
    "        fx = fX(p0)\n",
    "        fn.append(fx)\n",
    "        p0 = gX(p0)\n",
    "    fpm = {\n",
    "        \"g_n\":gn,\n",
    "        \"p_n\":pn,\n",
    "        \"f_n\":fn\n",
    "    }\n",
    "    return pd.DataFrame(fpm)\n",
    "\n",
    "def gX(p):\n",
    "    return m.pow(p+1,1/3)\n",
    "def fX(p):\n",
    "    return (p**3)-p-1"
   ]
  },
  {
   "cell_type": "code",
   "execution_count": 11,
   "id": "540a58be-f446-4c7e-b780-614737699172",
   "metadata": {},
   "outputs": [
    {
     "data": {
      "text/html": [
       "<div>\n",
       "<style scoped>\n",
       "    .dataframe tbody tr th:only-of-type {\n",
       "        vertical-align: middle;\n",
       "    }\n",
       "\n",
       "    .dataframe tbody tr th {\n",
       "        vertical-align: top;\n",
       "    }\n",
       "\n",
       "    .dataframe thead th {\n",
       "        text-align: right;\n",
       "    }\n",
       "</style>\n",
       "<table border=\"1\" class=\"dataframe\">\n",
       "  <thead>\n",
       "    <tr style=\"text-align: right;\">\n",
       "      <th></th>\n",
       "      <th>g_n</th>\n",
       "      <th>p_n</th>\n",
       "      <th>f_n</th>\n",
       "    </tr>\n",
       "  </thead>\n",
       "  <tbody>\n",
       "    <tr>\n",
       "      <th>0</th>\n",
       "      <td>1.259921</td>\n",
       "      <td>1.000000</td>\n",
       "      <td>-1.000000</td>\n",
       "    </tr>\n",
       "    <tr>\n",
       "      <th>1</th>\n",
       "      <td>1.312294</td>\n",
       "      <td>1.259921</td>\n",
       "      <td>-0.259921</td>\n",
       "    </tr>\n",
       "    <tr>\n",
       "      <th>2</th>\n",
       "      <td>1.322354</td>\n",
       "      <td>1.312294</td>\n",
       "      <td>-0.052373</td>\n",
       "    </tr>\n",
       "  </tbody>\n",
       "</table>\n",
       "</div>"
      ],
      "text/plain": [
       "        g_n       p_n       f_n\n",
       "0  1.259921  1.000000 -1.000000\n",
       "1  1.312294  1.259921 -0.259921\n",
       "2  1.322354  1.312294 -0.052373"
      ]
     },
     "execution_count": 11,
     "metadata": {},
     "output_type": "execute_result"
    }
   ],
   "source": [
    "fixed = fixedPointMethod(1,m.pow(10,-2),gX,fX)\n",
    "fixed"
   ]
  },
  {
   "cell_type": "code",
   "execution_count": null,
   "id": "7fb959b2-f403-4eea-8e8f-f02054176762",
   "metadata": {},
   "outputs": [],
   "source": []
  }
 ],
 "metadata": {
  "kernelspec": {
   "display_name": "Python 3 (ipykernel)",
   "language": "python",
   "name": "python3"
  },
  "language_info": {
   "codemirror_mode": {
    "name": "ipython",
    "version": 3
   },
   "file_extension": ".py",
   "mimetype": "text/x-python",
   "name": "python",
   "nbconvert_exporter": "python",
   "pygments_lexer": "ipython3",
   "version": "3.11.7"
  }
 },
 "nbformat": 4,
 "nbformat_minor": 5
}
