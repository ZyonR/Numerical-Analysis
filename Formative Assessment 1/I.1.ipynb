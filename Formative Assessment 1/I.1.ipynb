{
 "cells": [
  {
   "cell_type": "code",
   "execution_count": 2,
   "id": "5f3743af-774c-47b2-830b-e283810f1e6f",
   "metadata": {},
   "outputs": [],
   "source": [
    "import pandas as pd\n",
    "import math as m"
   ]
  },
  {
   "cell_type": "markdown",
   "id": "1f1ae608-15f5-4085-b80e-c350f77be9a4",
   "metadata": {},
   "source": [
    "Question 1: Use the Bisection method to find p3 for $f(x) = \\sqrt{x}-\\cos(x)$ on [0,1]."
   ]
  },
  {
   "cell_type": "code",
   "execution_count": 3,
   "id": "35a55c30-ce47-45d1-b278-ca3e0129c9cf",
   "metadata": {},
   "outputs": [],
   "source": [
    "def bisectionMethod(a, b, function, tolerance):\n",
    "    a_n__b_n = []\n",
    "    p_n = []\n",
    "    f_xn = []\n",
    "\n",
    "    dist = b - a\n",
    "    while dist >= tolerance:\n",
    "        a_n__b_n.append((a, b))\n",
    "        p = (a + b) / 2\n",
    "        p_n.append(p)\n",
    "        f_p = function(p)\n",
    "        f_xn.append(f_p)\n",
    "\n",
    "        if function(a) * f_p < 0:\n",
    "            b = p\n",
    "        else:\n",
    "            a = p\n",
    "\n",
    "        dist = b - a\n",
    "\n",
    "    df = {\n",
    "        \"a_n\": [interval[0] for interval in a_n__b_n],\n",
    "        \"b_n\": [interval[1] for interval in a_n__b_n],\n",
    "        \"p_n\": p_n,\n",
    "        \"f_xn\": f_xn\n",
    "    }\n",
    "    bisected = pd.DataFrame(df)\n",
    "    return bisected"
   ]
  },
  {
   "cell_type": "code",
   "execution_count": 4,
   "id": "ed99b279-699e-4ed9-93ab-75dd43f2e240",
   "metadata": {},
   "outputs": [],
   "source": [
    "def func(x):\n",
    "    return m.sqrt(x) - m.cos(x)"
   ]
  },
  {
   "cell_type": "code",
   "execution_count": 13,
   "id": "47f50c2c-eb25-4a40-a57c-00e3f6bffca3",
   "metadata": {},
   "outputs": [
    {
     "data": {
      "text/html": [
       "<div>\n",
       "<style scoped>\n",
       "    .dataframe tbody tr th:only-of-type {\n",
       "        vertical-align: middle;\n",
       "    }\n",
       "\n",
       "    .dataframe tbody tr th {\n",
       "        vertical-align: top;\n",
       "    }\n",
       "\n",
       "    .dataframe thead th {\n",
       "        text-align: right;\n",
       "    }\n",
       "</style>\n",
       "<table border=\"1\" class=\"dataframe\">\n",
       "  <thead>\n",
       "    <tr style=\"text-align: right;\">\n",
       "      <th></th>\n",
       "      <th>a_n__b_n</th>\n",
       "      <th>p_n</th>\n",
       "      <th>f_xn</th>\n",
       "    </tr>\n",
       "  </thead>\n",
       "  <tbody>\n",
       "    <tr>\n",
       "      <th>0</th>\n",
       "      <td>(0, 1)</td>\n",
       "      <td>0.500</td>\n",
       "      <td>-0.170476</td>\n",
       "    </tr>\n",
       "    <tr>\n",
       "      <th>1</th>\n",
       "      <td>(0.5, 1)</td>\n",
       "      <td>0.750</td>\n",
       "      <td>0.134337</td>\n",
       "    </tr>\n",
       "    <tr>\n",
       "      <th>2</th>\n",
       "      <td>(0.5, 0.75)</td>\n",
       "      <td>0.625</td>\n",
       "      <td>-0.020394</td>\n",
       "    </tr>\n",
       "  </tbody>\n",
       "</table>\n",
       "</div>"
      ],
      "text/plain": [
       "      a_n__b_n    p_n      f_xn\n",
       "0       (0, 1)  0.500 -0.170476\n",
       "1     (0.5, 1)  0.750  0.134337\n",
       "2  (0.5, 0.75)  0.625 -0.020394"
      ]
     },
     "execution_count": 13,
     "metadata": {},
     "output_type": "execute_result"
    }
   ],
   "source": [
    "bisected = bisectionMethod(0,1,func,3)\n",
    "bisected"
   ]
  },
  {
   "cell_type": "code",
   "execution_count": null,
   "id": "58c42100-dbff-43ec-b0f0-d0895346caac",
   "metadata": {},
   "outputs": [],
   "source": []
  }
 ],
 "metadata": {
  "kernelspec": {
   "display_name": "Python 3 (ipykernel)",
   "language": "python",
   "name": "python3"
  },
  "language_info": {
   "codemirror_mode": {
    "name": "ipython",
    "version": 3
   },
   "file_extension": ".py",
   "mimetype": "text/x-python",
   "name": "python",
   "nbconvert_exporter": "python",
   "pygments_lexer": "ipython3",
   "version": "3.11.7"
  }
 },
 "nbformat": 4,
 "nbformat_minor": 5
}
