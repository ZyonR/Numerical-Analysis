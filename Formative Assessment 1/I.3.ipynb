{
 "cells": [
  {
   "cell_type": "markdown",
   "id": "9533e89c-f873-4a3d-a791-226dcb5df1d4",
   "metadata": {},
   "source": [
    "Question 3:  Find a bound for a number of iterations needed to achieve an approximation with accuracy $10^{-3}$ to the solution of $x^3 + x −4 = 0$ lying in the interval [1,4]."
   ]
  },
  {
   "cell_type": "code",
   "execution_count": 2,
   "id": "285c7546-db47-449c-a927-3e44987821de",
   "metadata": {},
   "outputs": [],
   "source": [
    "import math as m\n",
    "def calcIterations(tolerance, a, b):\n",
    "    ln1 = m.log((b-a)/tolerance)\n",
    "    ln2 = m.log(2)\n",
    "    n = m.ceil(ln1/ln2)\n",
    "\n",
    "    return n"
   ]
  },
  {
   "cell_type": "code",
   "execution_count": 6,
   "id": "49bb367e-962a-4244-b32e-c6f2d338655b",
   "metadata": {},
   "outputs": [
    {
     "name": "stdout",
     "output_type": "stream",
     "text": [
      "Number of iterations: 12\n"
     ]
    }
   ],
   "source": [
    "iteration = calcIterations(pow(10,-3),1,4)\n",
    "print(f\"Number of iterations: {iteration}\")"
   ]
  }
 ],
 "metadata": {
  "kernelspec": {
   "display_name": "Python 3 (ipykernel)",
   "language": "python",
   "name": "python3"
  },
  "language_info": {
   "codemirror_mode": {
    "name": "ipython",
    "version": 3
   },
   "file_extension": ".py",
   "mimetype": "text/x-python",
   "name": "python",
   "nbconvert_exporter": "python",
   "pygments_lexer": "ipython3",
   "version": "3.11.7"
  }
 },
 "nbformat": 4,
 "nbformat_minor": 5
}
