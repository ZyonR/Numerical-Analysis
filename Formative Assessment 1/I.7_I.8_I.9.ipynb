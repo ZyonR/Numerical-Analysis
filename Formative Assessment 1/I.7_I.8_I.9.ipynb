{
 "cells": [
  {
   "cell_type": "code",
   "execution_count": 1,
   "id": "30b9442e-4775-4f68-82ed-cf58c6e4585b",
   "metadata": {},
   "outputs": [],
   "source": [
    "import math as m\n",
    "import pandas as pd"
   ]
  },
  {
   "cell_type": "code",
   "execution_count": 23,
   "id": "c69ee5c6-4bef-48f7-b07f-777937924ed1",
   "metadata": {},
   "outputs": [],
   "source": [
    "def newton(p0, fX, fdX, iterations):\n",
    "    pn = [p0]               \n",
    "    fn = [fX(p0)]           \n",
    "\n",
    "    for i in range(iterations):\n",
    "        p1 = p0 - (fX(p0) / fdX(p0))  \n",
    "        pn.append(p1)                \n",
    "        fn.append(fX(p1))            \n",
    "\n",
    "        p0 = p1  \n",
    "        \n",
    "    fNN = {\n",
    "        \"p_n\": pn,\n",
    "        \"f_n\": fn\n",
    "    }\n",
    "    fNNFrame = pd.DataFrame(fNN)\n",
    "    return fNNFrame"
   ]
  },
  {
   "cell_type": "code",
   "execution_count": 24,
   "id": "9671738e-b643-4080-b501-a845b3cba8f2",
   "metadata": {},
   "outputs": [],
   "source": [
    "def fX(x):\n",
    "    return (-x**3)-m.cos(x)\n",
    "def fdX(x):\n",
    "    return (-3*(x**2)+m.sin(x))"
   ]
  },
  {
   "cell_type": "code",
   "execution_count": 26,
   "id": "1804f60e-7b7e-435d-8292-71d3398af50b",
   "metadata": {},
   "outputs": [
    {
     "data": {
      "text/html": [
       "<div>\n",
       "<style scoped>\n",
       "    .dataframe tbody tr th:only-of-type {\n",
       "        vertical-align: middle;\n",
       "    }\n",
       "\n",
       "    .dataframe tbody tr th {\n",
       "        vertical-align: top;\n",
       "    }\n",
       "\n",
       "    .dataframe thead th {\n",
       "        text-align: right;\n",
       "    }\n",
       "</style>\n",
       "<table border=\"1\" class=\"dataframe\">\n",
       "  <thead>\n",
       "    <tr style=\"text-align: right;\">\n",
       "      <th></th>\n",
       "      <th>p_n</th>\n",
       "      <th>f_n</th>\n",
       "    </tr>\n",
       "  </thead>\n",
       "  <tbody>\n",
       "    <tr>\n",
       "      <th>0</th>\n",
       "      <td>-1.000000</td>\n",
       "      <td>0.459698</td>\n",
       "    </tr>\n",
       "    <tr>\n",
       "      <th>1</th>\n",
       "      <td>-0.880333</td>\n",
       "      <td>0.045351</td>\n",
       "    </tr>\n",
       "    <tr>\n",
       "      <th>2</th>\n",
       "      <td>-0.865684</td>\n",
       "      <td>0.000632</td>\n",
       "    </tr>\n",
       "  </tbody>\n",
       "</table>\n",
       "</div>"
      ],
      "text/plain": [
       "        p_n       f_n\n",
       "0 -1.000000  0.459698\n",
       "1 -0.880333  0.045351\n",
       "2 -0.865684  0.000632"
      ]
     },
     "execution_count": 26,
     "metadata": {},
     "output_type": "execute_result"
    }
   ],
   "source": [
    "frame = newton(-1,fX,fdX,2)\n",
    "frame"
   ]
  },
  {
   "cell_type": "code",
   "execution_count": 27,
   "id": "706710ee-b8cb-48f3-83ef-1a0b25ffed48",
   "metadata": {},
   "outputs": [],
   "source": [
    "def secant(p0,p1, fX, fdX, iterations):\n",
    "    pn = [p0,p1]\n",
    "    fn = [fX(p0),fX(p1)]           \n",
    "\n",
    "    for i in range(iterations):\n",
    "        p2 = p1 - (fX(p1) * (p1 - p0)) / (fX(p1) - fX(p0))  \n",
    "        pn.append(p2)                \n",
    "        fn.append(fX(p2))           \n",
    "\n",
    "        p0 = p1\n",
    "        p1 = p2\n",
    "        \n",
    "    fNN = {\n",
    "        \"p_n\": pn,\n",
    "        \"f_n\": fn\n",
    "    }\n",
    "    fNNFrame = pd.DataFrame(fNN)\n",
    "    return fNNFrame"
   ]
  },
  {
   "cell_type": "code",
   "execution_count": 29,
   "id": "7e65d6ec-eeb6-4d35-bdb5-860e3fdde62f",
   "metadata": {},
   "outputs": [
    {
     "data": {
      "text/html": [
       "<div>\n",
       "<style scoped>\n",
       "    .dataframe tbody tr th:only-of-type {\n",
       "        vertical-align: middle;\n",
       "    }\n",
       "\n",
       "    .dataframe tbody tr th {\n",
       "        vertical-align: top;\n",
       "    }\n",
       "\n",
       "    .dataframe thead th {\n",
       "        text-align: right;\n",
       "    }\n",
       "</style>\n",
       "<table border=\"1\" class=\"dataframe\">\n",
       "  <thead>\n",
       "    <tr style=\"text-align: right;\">\n",
       "      <th></th>\n",
       "      <th>p_n</th>\n",
       "      <th>f_n</th>\n",
       "    </tr>\n",
       "  </thead>\n",
       "  <tbody>\n",
       "    <tr>\n",
       "      <th>0</th>\n",
       "      <td>-1.000000</td>\n",
       "      <td>0.459698</td>\n",
       "    </tr>\n",
       "    <tr>\n",
       "      <th>1</th>\n",
       "      <td>0.000000</td>\n",
       "      <td>-1.000000</td>\n",
       "    </tr>\n",
       "    <tr>\n",
       "      <th>2</th>\n",
       "      <td>-0.685073</td>\n",
       "      <td>-0.452850</td>\n",
       "    </tr>\n",
       "    <tr>\n",
       "      <th>3</th>\n",
       "      <td>-1.252076</td>\n",
       "      <td>1.649524</td>\n",
       "    </tr>\n",
       "  </tbody>\n",
       "</table>\n",
       "</div>"
      ],
      "text/plain": [
       "        p_n       f_n\n",
       "0 -1.000000  0.459698\n",
       "1  0.000000 -1.000000\n",
       "2 -0.685073 -0.452850\n",
       "3 -1.252076  1.649524"
      ]
     },
     "execution_count": 29,
     "metadata": {},
     "output_type": "execute_result"
    }
   ],
   "source": [
    "frame = secant(-1,0,fX,fdX,2)\n",
    "frame"
   ]
  },
  {
   "cell_type": "code",
   "execution_count": 30,
   "id": "933efe6a-8015-44ba-beeb-c7aee5548465",
   "metadata": {},
   "outputs": [],
   "source": [
    "def falsePos(p0,p1, fX, fdX, iterations):\n",
    "    pn = [p0,p1]\n",
    "    fn = [fX(p0),fX(p1)]           \n",
    "\n",
    "    for i in range(iterations):\n",
    "        p2 = (p0 * fX(p1) - p1 * fX(p0)) / (fX(p1) - fX(p0))\n",
    "        pn.append(p2)                \n",
    "        fn.append(fX(p2))           \n",
    "\n",
    "        p0 = p1\n",
    "        p1 = p2\n",
    "        \n",
    "    fNN = {\n",
    "        \"p_n\": pn,\n",
    "        \"f_n\": fn\n",
    "    }\n",
    "    fNNFrame = pd.DataFrame(fNN)\n",
    "    return fNNFrame"
   ]
  },
  {
   "cell_type": "code",
   "execution_count": 31,
   "id": "7cfc97db-3a3f-4a71-b682-a00a3a7aa787",
   "metadata": {},
   "outputs": [
    {
     "data": {
      "text/html": [
       "<div>\n",
       "<style scoped>\n",
       "    .dataframe tbody tr th:only-of-type {\n",
       "        vertical-align: middle;\n",
       "    }\n",
       "\n",
       "    .dataframe tbody tr th {\n",
       "        vertical-align: top;\n",
       "    }\n",
       "\n",
       "    .dataframe thead th {\n",
       "        text-align: right;\n",
       "    }\n",
       "</style>\n",
       "<table border=\"1\" class=\"dataframe\">\n",
       "  <thead>\n",
       "    <tr style=\"text-align: right;\">\n",
       "      <th></th>\n",
       "      <th>p_n</th>\n",
       "      <th>f_n</th>\n",
       "    </tr>\n",
       "  </thead>\n",
       "  <tbody>\n",
       "    <tr>\n",
       "      <th>0</th>\n",
       "      <td>-1.000000</td>\n",
       "      <td>0.459698</td>\n",
       "    </tr>\n",
       "    <tr>\n",
       "      <th>1</th>\n",
       "      <td>0.000000</td>\n",
       "      <td>-1.000000</td>\n",
       "    </tr>\n",
       "    <tr>\n",
       "      <th>2</th>\n",
       "      <td>-0.685073</td>\n",
       "      <td>-0.452850</td>\n",
       "    </tr>\n",
       "    <tr>\n",
       "      <th>3</th>\n",
       "      <td>-1.252076</td>\n",
       "      <td>1.649524</td>\n",
       "    </tr>\n",
       "  </tbody>\n",
       "</table>\n",
       "</div>"
      ],
      "text/plain": [
       "        p_n       f_n\n",
       "0 -1.000000  0.459698\n",
       "1  0.000000 -1.000000\n",
       "2 -0.685073 -0.452850\n",
       "3 -1.252076  1.649524"
      ]
     },
     "execution_count": 31,
     "metadata": {},
     "output_type": "execute_result"
    }
   ],
   "source": [
    "frame = falsePos(-1,0,fX,fdX,2)\n",
    "frame"
   ]
  },
  {
   "cell_type": "code",
   "execution_count": 42,
   "id": "ebef338b-9a8a-4c0e-a665-a240bca8c33b",
   "metadata": {},
   "outputs": [],
   "source": [
    "def newton(p0, fX, fdX, tol):\n",
    "    p1 = p0 - (fX(p0) / fdX(p0))\n",
    "    pn = [p0,p1]               \n",
    "    fn = [fX(p0),fX(p1)]           \n",
    "\n",
    "    while abs(p1-p0) >= tol:\n",
    "        p0 = p1\n",
    "        p1 = p0 - (fX(p0) / fdX(p0))\n",
    "        pn.append(p1)                \n",
    "        fn.append(fX(p1))              \n",
    "        \n",
    "    fNN = {\n",
    "        \"p_n\": pn,\n",
    "        \"f_n\": fn\n",
    "    }\n",
    "    fNNFrame = pd.DataFrame(fNN)\n",
    "    return fNNFrame"
   ]
  },
  {
   "cell_type": "code",
   "execution_count": 43,
   "id": "6fde8f9c-c637-4185-bf66-8371f4e2149c",
   "metadata": {},
   "outputs": [],
   "source": [
    "def gX(x):\n",
    "    v=x-1\n",
    "    return m.log(v)+m.cos(v)\n",
    "def gdX(x):\n",
    "    v=x-1\n",
    "    return (1/v)-m.sin(v)"
   ]
  },
  {
   "cell_type": "code",
   "execution_count": 44,
   "id": "bffc3f6a-5011-4425-8e79-9691e47631a1",
   "metadata": {},
   "outputs": [
    {
     "ename": "ValueError",
     "evalue": "math domain error",
     "output_type": "error",
     "traceback": [
      "\u001b[1;31m---------------------------------------------------------------------------\u001b[0m",
      "\u001b[1;31mValueError\u001b[0m                                Traceback (most recent call last)",
      "Cell \u001b[1;32mIn[44], line 1\u001b[0m\n\u001b[1;32m----> 1\u001b[0m frame \u001b[38;5;241m=\u001b[39m newtonWithTol(\u001b[38;5;241m2\u001b[39m,gX,gdX,m\u001b[38;5;241m.\u001b[39mpow(\u001b[38;5;241m10\u001b[39m,\u001b[38;5;241m-\u001b[39m\u001b[38;5;241m5\u001b[39m))\n\u001b[0;32m      2\u001b[0m frame\n",
      "Cell \u001b[1;32mIn[39], line 8\u001b[0m, in \u001b[0;36mnewtonWithTol\u001b[1;34m(p0, fX, fPrimeX, tol)\u001b[0m\n\u001b[0;32m      5\u001b[0m p1 \u001b[38;5;241m=\u001b[39m p0 \u001b[38;5;241m-\u001b[39m fX(p0) \u001b[38;5;241m/\u001b[39m fPrimeX(p0)\n\u001b[0;32m      7\u001b[0m pn\u001b[38;5;241m.\u001b[39mappend(p1)\n\u001b[1;32m----> 8\u001b[0m fn\u001b[38;5;241m.\u001b[39mappend(fX(p1))\n\u001b[0;32m     10\u001b[0m \u001b[38;5;28;01mif\u001b[39;00m \u001b[38;5;28mabs\u001b[39m(p1 \u001b[38;5;241m-\u001b[39m p0) \u001b[38;5;241m<\u001b[39m tol:\n\u001b[0;32m     11\u001b[0m     \u001b[38;5;28;01mbreak\u001b[39;00m\n",
      "Cell \u001b[1;32mIn[43], line 3\u001b[0m, in \u001b[0;36mgX\u001b[1;34m(x)\u001b[0m\n\u001b[0;32m      1\u001b[0m \u001b[38;5;28;01mdef\u001b[39;00m \u001b[38;5;21mgX\u001b[39m(x):\n\u001b[0;32m      2\u001b[0m     v\u001b[38;5;241m=\u001b[39mx\u001b[38;5;241m-\u001b[39m\u001b[38;5;241m1\u001b[39m\n\u001b[1;32m----> 3\u001b[0m     \u001b[38;5;28;01mreturn\u001b[39;00m m\u001b[38;5;241m.\u001b[39mlog(v)\u001b[38;5;241m+\u001b[39mm\u001b[38;5;241m.\u001b[39mcos(v)\n",
      "\u001b[1;31mValueError\u001b[0m: math domain error"
     ]
    }
   ],
   "source": [
    "frame = newtonWithTol(2,gX,gdX,m.pow(10,-5))\n",
    "frame"
   ]
  },
  {
   "cell_type": "code",
   "execution_count": null,
   "id": "da28df45-1449-4f41-8470-d705de3ba0fa",
   "metadata": {},
   "outputs": [],
   "source": []
  }
 ],
 "metadata": {
  "kernelspec": {
   "display_name": "Python 3 (ipykernel)",
   "language": "python",
   "name": "python3"
  },
  "language_info": {
   "codemirror_mode": {
    "name": "ipython",
    "version": 3
   },
   "file_extension": ".py",
   "mimetype": "text/x-python",
   "name": "python",
   "nbconvert_exporter": "python",
   "pygments_lexer": "ipython3",
   "version": "3.11.7"
  }
 },
 "nbformat": 4,
 "nbformat_minor": 5
}
